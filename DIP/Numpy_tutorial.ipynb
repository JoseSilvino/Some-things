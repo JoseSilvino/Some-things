{
  "nbformat": 4,
  "nbformat_minor": 0,
  "metadata": {
    "colab": {
      "name": "Numpy tutorial.ipynb",
      "provenance": [],
      "collapsed_sections": []
    },
    "kernelspec": {
      "name": "python3",
      "display_name": "Python 3"
    },
    "language_info": {
      "name": "python"
    }
  },
  "cells": [
    {
      "cell_type": "code",
      "source": [
        "import numpy as np"
      ],
      "metadata": {
        "id": "0SwW7bXWHzuc"
      },
      "execution_count": null,
      "outputs": []
    },
    {
      "cell_type": "code",
      "source": [
        "#--How to create an empty and a full NumPy array?\n",
        "\n",
        "size = 3\n",
        "#empty\n",
        "arr = np.empty(size)\n",
        "print(f'empty - {arr}')\n",
        "#full\n",
        "arr = np.full(size,7)\n",
        "print(f'full - {arr}')"
      ],
      "metadata": {
        "colab": {
          "base_uri": "https://localhost:8080/"
        },
        "id": "Wp-sqy6bGuxy",
        "outputId": "b476c595-ed31-4026-a182-55d15dbb89e6"
      },
      "execution_count": null,
      "outputs": [
        {
          "output_type": "stream",
          "name": "stdout",
          "text": [
            "empty - [0.75 0.75 0.  ]\n",
            "full - [7 7 7]\n"
          ]
        }
      ]
    },
    {
      "cell_type": "code",
      "source": [
        "#Create a Numpy array filled with all zeros\n",
        "arr = np.zeros(10)\n",
        "print(f\"zeros - {arr}\")\n"
      ],
      "metadata": {
        "colab": {
          "base_uri": "https://localhost:8080/"
        },
        "id": "ccwKzJxIJWhz",
        "outputId": "bf5a7b4b-9613-4e02-ed19-fe24ae7f09ab"
      },
      "execution_count": null,
      "outputs": [
        {
          "output_type": "stream",
          "name": "stdout",
          "text": [
            "[0. 0. 0. 0. 0. 0. 0. 0. 0. 0.]\n"
          ]
        }
      ]
    },
    {
      "cell_type": "code",
      "source": [
        "#Create a Numpy array filled with all ones\n",
        "arr = np.ones((5,5))\n",
        "print(f'ones - {arr}')"
      ],
      "metadata": {
        "colab": {
          "base_uri": "https://localhost:8080/"
        },
        "id": "FY1RmK5yJscV",
        "outputId": "8ff7b3b5-bbbb-4efb-d3a0-26f12909a6b6"
      },
      "execution_count": null,
      "outputs": [
        {
          "output_type": "stream",
          "name": "stdout",
          "text": [
            "ones - [[1. 1. 1. 1. 1.]\n",
            " [1. 1. 1. 1. 1.]\n",
            " [1. 1. 1. 1. 1.]\n",
            " [1. 1. 1. 1. 1.]\n",
            " [1. 1. 1. 1. 1.]]\n"
          ]
        },
        {
          "output_type": "execute_result",
          "data": {
            "text/plain": [
              "array([ 7.,  9., nan, nan])"
            ]
          },
          "metadata": {},
          "execution_count": 47
        }
      ]
    },
    {
      "cell_type": "code",
      "source": [
        "#Check whether a Numpy array contains a specified row\n",
        "row = [1,2,3]\n",
        "contains = row in arr.tolist()\n",
        "print(f\"Contains? => {contains}\")\n",
        "row = [1,1,1,1,1]\n",
        "contains = row in arr.tolist()\n",
        "print(f\"Contains? => {contains}\")\n"
      ],
      "metadata": {
        "colab": {
          "base_uri": "https://localhost:8080/"
        },
        "id": "fC8bJj-rJ8tG",
        "outputId": "efbc0236-a0e5-464c-c1c4-89478b00643a"
      },
      "execution_count": null,
      "outputs": [
        {
          "output_type": "stream",
          "name": "stdout",
          "text": [
            "Contains? => False\n",
            "Contains? => True\n"
          ]
        }
      ]
    },
    {
      "cell_type": "code",
      "source": [
        "#How to Remove rows in Numpy array that contains non-numeric values?\n",
        "arr = np.array([[1,2,4,8],[7,9,np.nan,np.nan]])\n",
        "print(f'Original - {arr}')\n",
        "print(f'Row removed{arr[~np.isnan(arr).any(axis=1)]}')"
      ],
      "metadata": {
        "colab": {
          "base_uri": "https://localhost:8080/"
        },
        "id": "U85Adv7TKjQJ",
        "outputId": "44d83299-0d44-473c-83b3-620157ac168b"
      },
      "execution_count": null,
      "outputs": [
        {
          "output_type": "stream",
          "name": "stdout",
          "text": [
            "Original - [[ 1.  2.  4.  8.]\n",
            " [ 7.  9. nan nan]]\n",
            "Row removed[[1. 2. 4. 8.]]\n"
          ]
        }
      ]
    },
    {
      "cell_type": "code",
      "source": [
        "#Remove single-dimensional entries from the shape of an array\n",
        "arr = np.array([[[1],[2]],[[2],[3]]])\n",
        "print(arr)\n",
        "print(arr.shape)\n",
        "out = np.squeeze(arr)\n",
        "print(out)\n",
        "print(out.shape)"
      ],
      "metadata": {
        "colab": {
          "base_uri": "https://localhost:8080/"
        },
        "id": "_dXJ1y_ZLfRk",
        "outputId": "740aa22b-4e69-4883-f810-5d64ef69e62e"
      },
      "execution_count": null,
      "outputs": [
        {
          "output_type": "stream",
          "name": "stdout",
          "text": [
            "[[[1]\n",
            "  [2]]\n",
            "\n",
            " [[2]\n",
            "  [3]]]\n",
            "(2, 2, 1)\n",
            "[[1 2]\n",
            " [2 3]]\n",
            "(2, 2)\n"
          ]
        }
      ]
    },
    {
      "cell_type": "code",
      "source": [
        "#Find the number of occurrences of a sequence in a NumPy array\n",
        "arr = np.array([[2,4,6,7],[6,7,8,1],[9,3,6,7]])\n",
        "count = repr(arr).count(\"6, 7\")\n",
        "print(count)"
      ],
      "metadata": {
        "colab": {
          "base_uri": "https://localhost:8080/"
        },
        "id": "cEEZI32DNHVQ",
        "outputId": "c6068ca5-f9a9-4279-ae24-21972b6af88f"
      },
      "execution_count": null,
      "outputs": [
        {
          "output_type": "stream",
          "name": "stdout",
          "text": [
            "3\n"
          ]
        }
      ]
    },
    {
      "cell_type": "code",
      "source": [
        "#Find the most frequent value in a NumPy array\n",
        "arr = np.random.randint(10,size=15)\n",
        "print(f'Original array - {arr}')\n",
        "arr2 = np.bincount(arr)\n",
        "print(f'Frequency - {arr2}')\n",
        "maximum = max(arr2)\n",
        "for i in range(len(arr2)):\n",
        "  if arr2[i]==maximum:\n",
        "    print(i,end=\" \")"
      ],
      "metadata": {
        "colab": {
          "base_uri": "https://localhost:8080/"
        },
        "id": "TkU7pFwqNuYn",
        "outputId": "f0d1b036-0537-46e4-8925-149826ccdf7b"
      },
      "execution_count": null,
      "outputs": [
        {
          "output_type": "stream",
          "name": "stdout",
          "text": [
            "Original array - [7 5 5 7 3 3 4 0 7 7 7 7 4 5 0]\n",
            "Frequency - [2 0 0 2 2 3 0 6]\n",
            "7 "
          ]
        }
      ]
    },
    {
      "cell_type": "code",
      "source": [
        "#Combining a one and a two-dimensional NumPy Array\n",
        "a1 = np.arange(3)\n",
        "a2 = np.arange(9).reshape(3,3)\n",
        "print(a1)\n",
        "print(a2)\n",
        "for a, b in np.nditer([a1,a2]):\n",
        "  print(\"%d:%d\"%(a,b),)"
      ],
      "metadata": {
        "colab": {
          "base_uri": "https://localhost:8080/"
        },
        "id": "BJZn66gjPcO9",
        "outputId": "1f004e29-65c0-4c2a-fd3b-91a294eefcdb"
      },
      "execution_count": null,
      "outputs": [
        {
          "output_type": "stream",
          "name": "stdout",
          "text": [
            "[0 1 2]\n",
            "[[0 1 2]\n",
            " [3 4 5]\n",
            " [6 7 8]]\n",
            "0:0\n",
            "1:1\n",
            "2:2\n",
            "0:3\n",
            "1:4\n",
            "2:5\n",
            "0:6\n",
            "1:7\n",
            "2:8\n"
          ]
        }
      ]
    },
    {
      "cell_type": "code",
      "source": [
        "#How to build an array of all combinations of two NumPy arrays?\n",
        "comb = np.array(np.meshgrid(a1,a2)).T\n",
        "print(comb)"
      ],
      "metadata": {
        "colab": {
          "base_uri": "https://localhost:8080/"
        },
        "id": "JgTXyCA-RKEX",
        "outputId": "3d8cf0d3-bfd7-4fbf-9faa-4649945be7f9"
      },
      "execution_count": null,
      "outputs": [
        {
          "output_type": "stream",
          "name": "stdout",
          "text": [
            "[[[0 0]\n",
            "  [0 1]\n",
            "  [0 2]\n",
            "  [0 3]\n",
            "  [0 4]\n",
            "  [0 5]\n",
            "  [0 6]\n",
            "  [0 7]\n",
            "  [0 8]]\n",
            "\n",
            " [[1 0]\n",
            "  [1 1]\n",
            "  [1 2]\n",
            "  [1 3]\n",
            "  [1 4]\n",
            "  [1 5]\n",
            "  [1 6]\n",
            "  [1 7]\n",
            "  [1 8]]\n",
            "\n",
            " [[2 0]\n",
            "  [2 1]\n",
            "  [2 2]\n",
            "  [2 3]\n",
            "  [2 4]\n",
            "  [2 5]\n",
            "  [2 6]\n",
            "  [2 7]\n",
            "  [2 8]]]\n"
          ]
        }
      ]
    },
    {
      "cell_type": "code",
      "source": [
        "#How to add a border around a NumPy array?\n",
        "arr = np.ones((3,3))\n",
        "print(arr)\n",
        "a1 = np.pad(arr,pad_width=1,mode='constant',constant_values=0)\n",
        "print(a1)"
      ],
      "metadata": {
        "colab": {
          "base_uri": "https://localhost:8080/"
        },
        "id": "SktliBDrSNA6",
        "outputId": "b21aadb5-5f35-4cf6-f243-122a4f6c2af6"
      },
      "execution_count": null,
      "outputs": [
        {
          "output_type": "stream",
          "name": "stdout",
          "text": [
            "[[1. 1. 1.]\n",
            " [1. 1. 1.]\n",
            " [1. 1. 1.]]\n",
            "[[0. 0. 0. 0. 0.]\n",
            " [0. 1. 1. 1. 0.]\n",
            " [0. 1. 1. 1. 0.]\n",
            " [0. 1. 1. 1. 0.]\n",
            " [0. 0. 0. 0. 0.]]\n"
          ]
        }
      ]
    },
    {
      "cell_type": "code",
      "source": [
        "#How to compare two NumPy arrays?\n",
        "a1 = np.array([[2,1],[3,4]])\n",
        "a2 = np.array([[1,2],[4,3]])\n",
        "comp = a1==a2\n",
        "equal = comp.all()\n",
        "print(equal)"
      ],
      "metadata": {
        "colab": {
          "base_uri": "https://localhost:8080/"
        },
        "id": "9KunEohRSvP0",
        "outputId": "bcdcf2c6-578a-4c32-d329-12305b02aa0e"
      },
      "execution_count": null,
      "outputs": [
        {
          "output_type": "stream",
          "name": "stdout",
          "text": [
            "False\n"
          ]
        }
      ]
    },
    {
      "cell_type": "code",
      "source": [
        "#How to check whether specified values are present in NumPy array?\n",
        "arr = np.random.randint(100,size=10)\n",
        "print(arr)\n",
        "print(1 in arr)"
      ],
      "metadata": {
        "colab": {
          "base_uri": "https://localhost:8080/"
        },
        "id": "GU2eex4yTVkF",
        "outputId": "725b20ce-3c81-4bc5-9485-9146d99bf06a"
      },
      "execution_count": null,
      "outputs": [
        {
          "output_type": "stream",
          "name": "stdout",
          "text": [
            "[77 74 45 32 84 94 66 11  1 50]\n",
            "True\n"
          ]
        }
      ]
    },
    {
      "cell_type": "code",
      "source": [
        "#How to get all 2D diagonals of a 3D NumPy array?\n",
        "arr = np.arange(3*4*4).reshape(3,4,4)\n",
        "print(arr)\n",
        "diag = np.diagonal(arr,axis1=1,axis2=2)\n",
        "print(\"\\nDiagonal\")\n",
        "print(diag)"
      ],
      "metadata": {
        "colab": {
          "base_uri": "https://localhost:8080/"
        },
        "id": "hgFBsTSpTts6",
        "outputId": "8d8e8f44-bd30-4e96-8aee-3f41c592b554"
      },
      "execution_count": null,
      "outputs": [
        {
          "output_type": "stream",
          "name": "stdout",
          "text": [
            "[[[ 0  1  2  3]\n",
            "  [ 4  5  6  7]\n",
            "  [ 8  9 10 11]\n",
            "  [12 13 14 15]]\n",
            "\n",
            " [[16 17 18 19]\n",
            "  [20 21 22 23]\n",
            "  [24 25 26 27]\n",
            "  [28 29 30 31]]\n",
            "\n",
            " [[32 33 34 35]\n",
            "  [36 37 38 39]\n",
            "  [40 41 42 43]\n",
            "  [44 45 46 47]]]\n",
            "\n",
            "Diagonal\n",
            "[[ 0  5 10 15]\n",
            " [16 21 26 31]\n",
            " [32 37 42 47]]\n"
          ]
        }
      ]
    },
    {
      "cell_type": "code",
      "source": [
        "#Flatten a Matrix in Python using NumPy\n",
        "m = np.matrix([[2,3],[4,5]])\n",
        "arr = m.flatten()\n",
        "print(arr)"
      ],
      "metadata": {
        "colab": {
          "base_uri": "https://localhost:8080/"
        },
        "id": "u2i7xsyBVMG-",
        "outputId": "cdad78e7-6d75-49cb-d8dc-2e44f4d6197c"
      },
      "execution_count": null,
      "outputs": [
        {
          "output_type": "stream",
          "name": "stdout",
          "text": [
            "[[2 3 4 5]]\n"
          ]
        }
      ]
    },
    {
      "cell_type": "code",
      "source": [
        "#Flatten a 2d numpy array into 1d array\n",
        "arr = np.random.randint(10,size=(3,2))\n",
        "print(arr)\n",
        "res = arr.flatten()\n",
        "print(res)"
      ],
      "metadata": {
        "colab": {
          "base_uri": "https://localhost:8080/"
        },
        "id": "XCoAWGhtUSHv",
        "outputId": "0ce649ba-2092-4de1-d5ca-6f0a9fa1a473"
      },
      "execution_count": null,
      "outputs": [
        {
          "output_type": "stream",
          "name": "stdout",
          "text": [
            "[[7 8]\n",
            " [5 4]\n",
            " [9 4]]\n",
            "[7 8 5 4 9 4]\n"
          ]
        }
      ]
    },
    {
      "cell_type": "code",
      "source": [
        "#Move axes of an array to new positions\n",
        "arr = np.zeros((2,3,4))\n",
        "print(arr)\n",
        "ans = np.moveaxis(arr,0,-1)\n",
        "print()\n",
        "print(ans)\n",
        "print(ans.shape)"
      ],
      "metadata": {
        "colab": {
          "base_uri": "https://localhost:8080/"
        },
        "id": "-tTVsVUAVGyj",
        "outputId": "f58ae395-1726-49fb-9c54-a5a41da86bf2"
      },
      "execution_count": null,
      "outputs": [
        {
          "output_type": "stream",
          "name": "stdout",
          "text": [
            "[[[0. 0. 0. 0.]\n",
            "  [0. 0. 0. 0.]\n",
            "  [0. 0. 0. 0.]]\n",
            "\n",
            " [[0. 0. 0. 0.]\n",
            "  [0. 0. 0. 0.]\n",
            "  [0. 0. 0. 0.]]]\n",
            "\n",
            "[[[0. 0.]\n",
            "  [0. 0.]\n",
            "  [0. 0.]\n",
            "  [0. 0.]]\n",
            "\n",
            " [[0. 0.]\n",
            "  [0. 0.]\n",
            "  [0. 0.]\n",
            "  [0. 0.]]\n",
            "\n",
            " [[0. 0.]\n",
            "  [0. 0.]\n",
            "  [0. 0.]\n",
            "  [0. 0.]]]\n",
            "(3, 4, 2)\n"
          ]
        }
      ]
    },
    {
      "cell_type": "code",
      "source": [
        "#Interchange two axes of an array\n",
        "arr = np.array([[1,2,3]])\n",
        "narr = np.swapaxes(arr,0,1)\n",
        "print(narr)"
      ],
      "metadata": {
        "colab": {
          "base_uri": "https://localhost:8080/"
        },
        "id": "bOynOUOfWYSc",
        "outputId": "4ed9d376-96f4-45e5-dcce-aefbe36da0f7"
      },
      "execution_count": null,
      "outputs": [
        {
          "output_type": "stream",
          "name": "stdout",
          "text": [
            "[[1]\n",
            " [2]\n",
            " [3]]\n"
          ]
        }
      ]
    },
    {
      "cell_type": "code",
      "source": [
        "#NumPy – Fibonacci Series using Binet Formula\n",
        "a = np.arange(0,11)\n",
        "lengthA = len(a)\n",
        "r5 = np.sqrt(5)\n",
        "alpha = (1+r5)/2\n",
        "beta = (1-r5)/2\n",
        "Fibn =  np.rint(((alpha**a)-(beta**a))/r5)\n",
        "print(f\"The first {lengthA} numbers of Fibbonacci series are {Fibn}\")"
      ],
      "metadata": {
        "colab": {
          "base_uri": "https://localhost:8080/"
        },
        "id": "UYgKqQ-8XGRf",
        "outputId": "f015140f-2230-43ff-8167-d32e81c4f2eb"
      },
      "execution_count": null,
      "outputs": [
        {
          "output_type": "stream",
          "name": "stdout",
          "text": [
            "The first 11 numbers of Fibbonacci series are [ 0.  1.  1.  2.  3.  5.  8. 13. 21. 34. 55.]\n"
          ]
        }
      ]
    },
    {
      "cell_type": "code",
      "source": [
        "#Counts the number of non-zero values in the array\n",
        "arr = np.random.randint(50,size=10)\n",
        "print(arr)\n",
        "print(np.count_nonzero(arr))"
      ],
      "metadata": {
        "id": "tUzAjhTPXrds",
        "colab": {
          "base_uri": "https://localhost:8080/"
        },
        "outputId": "fffb889f-6354-426c-bf4f-7ddf1a9b0bc6"
      },
      "execution_count": null,
      "outputs": [
        {
          "output_type": "stream",
          "name": "stdout",
          "text": [
            "[48  3 27 25  3 49 40 35 39  1]\n",
            "10\n"
          ]
        }
      ]
    },
    {
      "cell_type": "code",
      "source": [
        "#Count the number of elements along a given axis\n",
        "arr = np.array([[1,2,3,4],[5,6,7,8]])\n",
        "print(np.size(arr,0))\n",
        "print(np.size(arr,1))"
      ],
      "metadata": {
        "colab": {
          "base_uri": "https://localhost:8080/"
        },
        "id": "Z03ESv6HZtiX",
        "outputId": "cdc736f7-1233-4798-8072-bccbe8a47106"
      },
      "execution_count": null,
      "outputs": [
        {
          "output_type": "stream",
          "name": "stdout",
          "text": [
            "2\n",
            "4\n"
          ]
        }
      ]
    },
    {
      "cell_type": "code",
      "source": [
        "#Trim the leading and/or trailing zeros from a 1-D array\n",
        "arr = np.array((0, 0, 0, 0, 1, 5, 7, 0, 6, 2, 9, 0, 10, 0, 0))\n",
        "res = np.trim_zeros(arr)\n",
        "print(res)"
      ],
      "metadata": {
        "colab": {
          "base_uri": "https://localhost:8080/"
        },
        "id": "OVDgzsgqaQL1",
        "outputId": "1638c521-d87c-4c25-8d70-cfcc7ebc73dc"
      },
      "execution_count": null,
      "outputs": [
        {
          "output_type": "stream",
          "name": "stdout",
          "text": [
            "[ 1  5  7  0  6  2  9  0 10]\n"
          ]
        }
      ]
    },
    {
      "cell_type": "code",
      "source": [
        "#Change data type of given numpy array\n",
        "print(arr.dtype)\n",
        "arr = arr.astype('float64')\n",
        "print(arr)\n",
        "print(arr.dtype)"
      ],
      "metadata": {
        "colab": {
          "base_uri": "https://localhost:8080/"
        },
        "id": "5u6Kbo0Tahbd",
        "outputId": "d6089809-004c-4351-991b-750f0a2e060c"
      },
      "execution_count": null,
      "outputs": [
        {
          "output_type": "stream",
          "name": "stdout",
          "text": [
            "int64\n",
            "[ 0.  0.  0.  0.  1.  5.  7.  0.  6.  2.  9.  0. 10.  0.  0.]\n",
            "float64\n"
          ]
        }
      ]
    },
    {
      "cell_type": "code",
      "source": [
        "#Reverse a numpy array\n",
        "res = np.flipud(arr)\n",
        "print(res)"
      ],
      "metadata": {
        "colab": {
          "base_uri": "https://localhost:8080/"
        },
        "id": "vPeOqPfha8Ru",
        "outputId": "1339965a-5661-4d67-a60a-a10c7fff3c30"
      },
      "execution_count": null,
      "outputs": [
        {
          "output_type": "stream",
          "name": "stdout",
          "text": [
            "[ 0.  0. 10.  0.  9.  2.  6.  0.  7.  5.  1.  0.  0.  0.  0.]\n"
          ]
        }
      ]
    },
    {
      "cell_type": "code",
      "source": [
        "#How to make a NumPy array read-only?\n",
        "a = np.array([0,1,5,9,4,7])\n",
        "a[1] = 5\n",
        "a.flags.writeable = False\n",
        "a[3] = 8"
      ],
      "metadata": {
        "colab": {
          "base_uri": "https://localhost:8080/",
          "height": 211
        },
        "id": "JEHrtD9ubX0U",
        "outputId": "32b2a5db-0b21-4bf7-88a1-a930996daefb"
      },
      "execution_count": null,
      "outputs": [
        {
          "output_type": "error",
          "ename": "ValueError",
          "evalue": "ignored",
          "traceback": [
            "\u001b[0;31m---------------------------------------------------------------------------\u001b[0m",
            "\u001b[0;31mValueError\u001b[0m                                Traceback (most recent call last)",
            "\u001b[0;32m<ipython-input-168-c9af34bc6dc2>\u001b[0m in \u001b[0;36m<module>\u001b[0;34m()\u001b[0m\n\u001b[1;32m      3\u001b[0m \u001b[0ma\u001b[0m\u001b[0;34m[\u001b[0m\u001b[0;36m1\u001b[0m\u001b[0;34m]\u001b[0m \u001b[0;34m=\u001b[0m \u001b[0;36m5\u001b[0m\u001b[0;34m\u001b[0m\u001b[0;34m\u001b[0m\u001b[0m\n\u001b[1;32m      4\u001b[0m \u001b[0ma\u001b[0m\u001b[0;34m.\u001b[0m\u001b[0mflags\u001b[0m\u001b[0;34m.\u001b[0m\u001b[0mwriteable\u001b[0m \u001b[0;34m=\u001b[0m \u001b[0;32mFalse\u001b[0m\u001b[0;34m\u001b[0m\u001b[0;34m\u001b[0m\u001b[0m\n\u001b[0;32m----> 5\u001b[0;31m \u001b[0ma\u001b[0m\u001b[0;34m[\u001b[0m\u001b[0;36m3\u001b[0m\u001b[0;34m]\u001b[0m \u001b[0;34m=\u001b[0m \u001b[0;36m8\u001b[0m\u001b[0;34m\u001b[0m\u001b[0;34m\u001b[0m\u001b[0m\n\u001b[0m",
            "\u001b[0;31mValueError\u001b[0m: assignment destination is read-only"
          ]
        }
      ]
    },
    {
      "cell_type": "code",
      "source": [
        "#Get the maximum value from given matrix\n",
        "arr = np.random.randint(5,size=(3,3))\n",
        "print(arr)\n",
        "print(np.amax(arr))"
      ],
      "metadata": {
        "colab": {
          "base_uri": "https://localhost:8080/"
        },
        "id": "bM6kZPNubxNg",
        "outputId": "62190411-a147-43c1-b111-783ea5b53a04"
      },
      "execution_count": null,
      "outputs": [
        {
          "output_type": "stream",
          "name": "stdout",
          "text": [
            "[[0 0 1]\n",
            " [0 3 4]\n",
            " [2 2 1]]\n",
            "4\n"
          ]
        }
      ]
    },
    {
      "cell_type": "code",
      "source": [
        "#Get the minimum value from given matrix\n",
        "arr = np.random.randint(5,size=(3,3))\n",
        "print(arr)\n",
        "print(np.amin(arr))"
      ],
      "metadata": {
        "colab": {
          "base_uri": "https://localhost:8080/"
        },
        "id": "jfpOMHVPcOBN",
        "outputId": "b38b980f-8a2f-4240-fb21-c8e5d43e53ee"
      },
      "execution_count": null,
      "outputs": [
        {
          "output_type": "stream",
          "name": "stdout",
          "text": [
            "[[0 1 1]\n",
            " [4 0 4]\n",
            " [2 2 4]]\n",
            "0\n"
          ]
        }
      ]
    },
    {
      "cell_type": "code",
      "source": [
        "#Find the number of rows and columns of a given matrix using NumPy\n",
        "matrix = np.arange(0,10).reshape(2,5)\n",
        "print(matrix)\n",
        "print(matrix.shape)"
      ],
      "metadata": {
        "colab": {
          "base_uri": "https://localhost:8080/"
        },
        "id": "xgBm2GhbcV_g",
        "outputId": "a0181d60-ebad-457b-d2f5-1ef4a1f67c37"
      },
      "execution_count": null,
      "outputs": [
        {
          "output_type": "stream",
          "name": "stdout",
          "text": [
            "[[0 1 2 3 4]\n",
            " [5 6 7 8 9]]\n",
            "(2, 5)\n"
          ]
        }
      ]
    },
    {
      "cell_type": "code",
      "source": [
        "#Select the elements from a given matrix\n",
        "matrix = np.matrix('[1,2,3,4;5,6,7,8]')\n",
        "print(np.choose([1,0,1,0],matrix))"
      ],
      "metadata": {
        "colab": {
          "base_uri": "https://localhost:8080/"
        },
        "id": "g_lygQBXc5Kp",
        "outputId": "4b7df893-79b5-40e9-98d8-8add23013527"
      },
      "execution_count": null,
      "outputs": [
        {
          "output_type": "stream",
          "name": "stdout",
          "text": [
            "[[5 2 7 4]]\n"
          ]
        }
      ]
    },
    {
      "cell_type": "code",
      "source": [
        "#Find the sum of values in a matrix\n",
        "sum = np.sum(matrix)\n",
        "print(sum)\n"
      ],
      "metadata": {
        "colab": {
          "base_uri": "https://localhost:8080/"
        },
        "id": "Hh1Fw6HNdf33",
        "outputId": "d47f7a1e-78eb-4f8d-804f-501a39e911be"
      },
      "execution_count": null,
      "outputs": [
        {
          "output_type": "execute_result",
          "data": {
            "text/plain": [
              "36"
            ]
          },
          "metadata": {},
          "execution_count": 182
        }
      ]
    },
    {
      "cell_type": "code",
      "source": [
        "#Calculate the sum of the diagonal elements of a NumPy array\n",
        "arr = np.array([[10,2,11],[7,3,1],[0,3,4]])\n",
        "print(np.trace(arr))"
      ],
      "metadata": {
        "colab": {
          "base_uri": "https://localhost:8080/"
        },
        "id": "_HVYvZu-eAeZ",
        "outputId": "174c0e3f-267c-4e42-b749-99c735087538"
      },
      "execution_count": null,
      "outputs": [
        {
          "output_type": "stream",
          "name": "stdout",
          "text": [
            "17\n"
          ]
        }
      ]
    },
    {
      "cell_type": "code",
      "source": [
        "#Adding and Subtracting Matrices in Python\n",
        "print(np.add(a1,a2))"
      ],
      "metadata": {
        "colab": {
          "base_uri": "https://localhost:8080/"
        },
        "id": "ypF7Tff3eoaF",
        "outputId": "c60cda29-a8cb-4cc4-e09d-fa1dec459a5d"
      },
      "execution_count": null,
      "outputs": [
        {
          "output_type": "stream",
          "name": "stdout",
          "text": [
            "[[3 3]\n",
            " [7 7]]\n"
          ]
        }
      ]
    },
    {
      "cell_type": "code",
      "source": [
        "#Ways to add row/columns in numpy array\n",
        "to_add = np.array([2,8,7])\n",
        "res = np.hstack((arr,np.atleast_2d(to_add).T))\n",
        "print(res)"
      ],
      "metadata": {
        "colab": {
          "base_uri": "https://localhost:8080/"
        },
        "id": "wEfQiQBCfDPD",
        "outputId": "d976d0d1-0287-4e29-c563-b6d9767d6944"
      },
      "execution_count": null,
      "outputs": [
        {
          "output_type": "stream",
          "name": "stdout",
          "text": [
            "[[10  2 11  2]\n",
            " [ 7  3  1  8]\n",
            " [ 0  3  4  7]]\n"
          ]
        }
      ]
    },
    {
      "cell_type": "code",
      "source": [
        "#Matrix Multiplication in NumPy\n",
        "print(np.matmul(a1,a2))"
      ],
      "metadata": {
        "colab": {
          "base_uri": "https://localhost:8080/"
        },
        "id": "yKzpxK7LgCVn",
        "outputId": "d89a3eb0-a2e1-4cd9-b165-f4cb7c4c5b96"
      },
      "execution_count": null,
      "outputs": [
        {
          "output_type": "stream",
          "name": "stdout",
          "text": [
            "[[ 6  7]\n",
            " [19 18]]\n"
          ]
        }
      ]
    },
    {
      "cell_type": "code",
      "source": [
        "#Get the eigen values of a matrix\n",
        "print(np.linalg.eigvals(a1))"
      ],
      "metadata": {
        "colab": {
          "base_uri": "https://localhost:8080/"
        },
        "id": "oUnNOslugbfX",
        "outputId": "71b0005c-157c-48c0-9e31-f6b341fbadfc"
      },
      "execution_count": null,
      "outputs": [
        {
          "output_type": "stream",
          "name": "stdout",
          "text": [
            "[1. 5.]\n"
          ]
        }
      ]
    },
    {
      "cell_type": "code",
      "source": [
        "#How to Calculate the determinant of a matrix using NumPy?\n",
        "print(a1)\n",
        "print(np.linalg.det(a1))"
      ],
      "metadata": {
        "colab": {
          "base_uri": "https://localhost:8080/"
        },
        "id": "MVQ3zKDwg3Tt",
        "outputId": "a55e333c-c8fd-4f1f-9b27-ef16a2f9b7bc"
      },
      "execution_count": null,
      "outputs": [
        {
          "output_type": "stream",
          "name": "stdout",
          "text": [
            "[[2 1]\n",
            " [3 4]]\n",
            "5.000000000000001\n"
          ]
        }
      ]
    },
    {
      "cell_type": "code",
      "source": [
        "#How to inverse a matrix using NumPy\n",
        "print(np.linalg.inv(a1))\n",
        "print(np.matmul(a1,np.linalg.inv(a1)))"
      ],
      "metadata": {
        "colab": {
          "base_uri": "https://localhost:8080/"
        },
        "id": "3lVh0QrqhLMV",
        "outputId": "27199a4c-9023-4664-db20-21fdec510ca9"
      },
      "execution_count": null,
      "outputs": [
        {
          "output_type": "stream",
          "name": "stdout",
          "text": [
            "[[ 0.8 -0.2]\n",
            " [-0.6  0.4]]\n",
            "[[1. 0.]\n",
            " [0. 1.]]\n"
          ]
        }
      ]
    },
    {
      "cell_type": "code",
      "source": [
        "#How to count the frequency of unique values in NumPy array?\n",
        "unique,freq = np.unique(arr,return_counts=True)\n",
        "print(\"Unique values\",unique)\n",
        "print(\"Frequemcy values\",freqHow to count the frequency of unique values in NumPy array?)"
      ],
      "metadata": {
        "colab": {
          "base_uri": "https://localhost:8080/"
        },
        "id": "NMXmiECVhbtV",
        "outputId": "2d06be1d-4186-44e2-9288-096df50785ce"
      },
      "execution_count": null,
      "outputs": [
        {
          "output_type": "stream",
          "name": "stdout",
          "text": [
            "Unique values [ 0  1  2  3  4  7 10 11]\n",
            "Frequemcy values [1 1 1 2 1 1 1 1]\n"
          ]
        }
      ]
    },
    {
      "cell_type": "code",
      "source": [
        "#Multiply matrices of complex numbers using NumPy in Python\n",
        "x = np.array([1+8j,5+3j])\n",
        "y = np.array([2+0j,5+7j])\n",
        "z = np.vdot(x,y)\n",
        "print(z)"
      ],
      "metadata": {
        "colab": {
          "base_uri": "https://localhost:8080/"
        },
        "id": "c8oLpZM5hzYk",
        "outputId": "36f8384f-e434-4296-b0c8-f84228d7e80e"
      },
      "execution_count": null,
      "outputs": [
        {
          "output_type": "stream",
          "name": "stdout",
          "text": [
            "(48+4j)\n"
          ]
        }
      ]
    },
    {
      "cell_type": "code",
      "source": [
        "#Compute the outer product of two given vectors using NumPy in Python\n",
        "a1 = np.array([6,5])\n",
        "a2 = np.array([2,4])\n",
        "print(np.outer(a1,a2))"
      ],
      "metadata": {
        "colab": {
          "base_uri": "https://localhost:8080/"
        },
        "id": "OlcgOUyEiR3a",
        "outputId": "1447781c-8859-4988-e4c0-b7a425a2a5d1"
      },
      "execution_count": null,
      "outputs": [
        {
          "output_type": "stream",
          "name": "stdout",
          "text": [
            "[[12 24]\n",
            " [10 20]]\n"
          ]
        }
      ]
    },
    {
      "cell_type": "code",
      "source": [
        "#Calculate inner, outer, and cross products of matrices and vectors using NumPy\n",
        "#Inner\n",
        "#vector\n",
        "print(\"Inner product of arrays a1 and a2\\n\",np.inner(a1,a2))\n",
        "#matrix\n",
        "x = np.array([[2,3,4],[2,4,9]])\n",
        "y = np.array([[1,5,0],[5,3,10]])\n",
        "print('Inner product of matrices x and y\\n',np.inner(x,y))\n",
        "\n",
        "#Outer\n",
        "#vector\n",
        "print('Outer product of arrays a1 and a2\\n',np.outer(a1,a2))\n",
        "#matrix\n",
        "print('Outer product of matrices x and y\\n',np.outer(x,y))\n",
        "\n",
        "#Cross\n",
        "#vector\n",
        "print('Cross product of arrays a1 and a2\\n',np.cross(a1,a2))\n",
        "#matrix\n",
        "print('Cross product of matrices x and y\\n',np.cross(x,y))"
      ],
      "metadata": {
        "colab": {
          "base_uri": "https://localhost:8080/"
        },
        "id": "40eY30oMiuSY",
        "outputId": "a14f342b-2b6f-40ef-ae96-30d101792b4b"
      },
      "execution_count": null,
      "outputs": [
        {
          "output_type": "stream",
          "name": "stdout",
          "text": [
            "Inner product of arrays a1 and a2\n",
            " 32\n",
            "Inner product of matrices x and y\n",
            " [[ 17  59]\n",
            " [ 22 112]]\n",
            "Outer product of arrays a1 and a2\n",
            " [[12 24]\n",
            " [10 20]]\n",
            "Outer product of matrices x and y\n",
            " [[ 2 10  0 10  6 20]\n",
            " [ 3 15  0 15  9 30]\n",
            " [ 4 20  0 20 12 40]\n",
            " [ 2 10  0 10  6 20]\n",
            " [ 4 20  0 20 12 40]\n",
            " [ 9 45  0 45 27 90]]\n",
            "Cross product of arrays a1 and a2\n",
            " 14\n",
            "Cross product of matrices x and y\n",
            " [[-20   4   7]\n",
            " [ 13  25 -14]]\n"
          ]
        }
      ]
    },
    {
      "cell_type": "code",
      "source": [
        "#Compute the covariance matrix of two given NumPy arrays\n",
        "cov = np.cov(a1,a2)\n",
        "print(cov)"
      ],
      "metadata": {
        "colab": {
          "base_uri": "https://localhost:8080/"
        },
        "id": "Ts4NdJ7Ekds0",
        "outputId": "0e3cc9c9-aab0-45ce-a870-9edecada2eee"
      },
      "execution_count": null,
      "outputs": [
        {
          "output_type": "stream",
          "name": "stdout",
          "text": [
            "[[ 0.5 -1. ]\n",
            " [-1.   2. ]]\n"
          ]
        }
      ]
    },
    {
      "cell_type": "code",
      "source": [
        "#Convert covariance matrix to correlation matrix using Python\n",
        "print(np.corrcoef(cov))"
      ],
      "metadata": {
        "colab": {
          "base_uri": "https://localhost:8080/"
        },
        "id": "tPIsbSrGkhvM",
        "outputId": "6e5af6f9-144d-4101-80a7-22fddb494068"
      },
      "execution_count": null,
      "outputs": [
        {
          "output_type": "stream",
          "name": "stdout",
          "text": [
            "[[ 1. -1.]\n",
            " [-1.  1.]]\n"
          ]
        }
      ]
    },
    {
      "cell_type": "code",
      "source": [
        "#Compute the Kronecker product of two mulitdimension NumPy arrays\n",
        "kprod = np.kron(np.array([[1,2],[3,4]]),np.array([[5,6],[7,8]]))\n",
        "print(kprod)"
      ],
      "metadata": {
        "colab": {
          "base_uri": "https://localhost:8080/"
        },
        "id": "Tkt_-6IRlHfU",
        "outputId": "f01caa65-2917-46c1-c483-6a4230a9a9bd"
      },
      "execution_count": null,
      "outputs": [
        {
          "output_type": "stream",
          "name": "stdout",
          "text": [
            "[[ 5  6 10 12]\n",
            " [ 7  8 14 16]\n",
            " [15 18 20 24]\n",
            " [21 24 28 32]]\n"
          ]
        }
      ]
    },
    {
      "cell_type": "code",
      "source": [
        "#Convert the matrix into a list\n",
        "print(arr.tolist())"
      ],
      "metadata": {
        "colab": {
          "base_uri": "https://localhost:8080/"
        },
        "id": "SLn5SycrlcDF",
        "outputId": "2e64b55e-7f31-4e8e-c85b-a438abdd220a"
      },
      "execution_count": null,
      "outputs": [
        {
          "output_type": "stream",
          "name": "stdout",
          "text": [
            "[[10, 2, 11], [7, 3, 1], [0, 3, 4]]\n"
          ]
        }
      ]
    },
    {
      "cell_type": "code",
      "source": [
        "#Replace NumPy array elements that doesn’t satisfy the given condition\n",
        "n_arr = np.array([75.42436315, 42.48558583, 60.32924763])\n",
        "#replace all elements wich are less than 65 to 100.8\n",
        "n_arr[n_arr<65] = 100.8\n",
        "print(n_arr)"
      ],
      "metadata": {
        "colab": {
          "base_uri": "https://localhost:8080/"
        },
        "id": "bgJ5wj-ql1lR",
        "outputId": "d7c21731-2ccf-4775-e42e-977e5e17f783"
      },
      "execution_count": null,
      "outputs": [
        {
          "output_type": "stream",
          "name": "stdout",
          "text": [
            "[ 75.42436315 100.8        100.8       ]\n"
          ]
        }
      ]
    },
    {
      "cell_type": "code",
      "source": [
        "#Return the indices of elements where the given condition is satisfied\n",
        "ind = np.where(n_arr>60)\n",
        "print(ind)"
      ],
      "metadata": {
        "colab": {
          "base_uri": "https://localhost:8080/"
        },
        "id": "QiejfrDxmpL2",
        "outputId": "32e4198f-b046-429f-c732-796dda1fc0e7"
      },
      "execution_count": null,
      "outputs": [
        {
          "output_type": "stream",
          "name": "stdout",
          "text": [
            "(array([0, 1, 2]),)\n"
          ]
        }
      ]
    },
    {
      "cell_type": "code",
      "source": [
        "#Replace NaN values with average of columns\n",
        "array = np.array([[1.3, 2.5, 3.6, np.nan], [2.6, 3.3, np.nan, 5.5], [2.1, 3.2, 5.4, 6.5]])\n",
        "col_mean = np.nanmean(array,axis=0)\n",
        "inds = np.where(np.isnan(array))\n",
        "array[inds] = np.take(col_mean,inds[1])\n",
        "print(array)"
      ],
      "metadata": {
        "colab": {
          "base_uri": "https://localhost:8080/"
        },
        "id": "mLmdn2gCm9Qv",
        "outputId": "93f15e9b-9802-4842-d8c3-0db70e8584e7"
      },
      "execution_count": null,
      "outputs": [
        {
          "output_type": "stream",
          "name": "stdout",
          "text": [
            "[[1.3 2.5 3.6 6. ]\n",
            " [2.6 3.3 4.5 5.5]\n",
            " [2.1 3.2 5.4 6.5]]\n"
          ]
        }
      ]
    },
    {
      "cell_type": "code",
      "source": [
        "#Replace negative value with zero in numpy array\n",
        "array = np.array([1,-9,5,3,-8,3,-4,-98])\n",
        "array[array<0] = 0\n",
        "print(array)"
      ],
      "metadata": {
        "colab": {
          "base_uri": "https://localhost:8080/"
        },
        "id": "fOg4YYM4n1RC",
        "outputId": "9fbeedab-3c65-4a2d-ffa4-bde39b0e8197"
      },
      "execution_count": null,
      "outputs": [
        {
          "output_type": "stream",
          "name": "stdout",
          "text": [
            "[1 0 5 3 0 3 0 0]\n"
          ]
        }
      ]
    },
    {
      "cell_type": "code",
      "source": [
        "#How to get values of an NumPy array at certain index positions?\n",
        "arr1 = np.array([1,5,3])\n",
        "arr2 = np.array([5,7,9])\n",
        "arr1.put([0,2],arr2)\n",
        "print(arr1)\n",
        "print(arr2)"
      ],
      "metadata": {
        "colab": {
          "base_uri": "https://localhost:8080/"
        },
        "id": "RpFRvwzkoVtO",
        "outputId": "2349c405-4cfc-4fb0-9f47-bfbc9e44f6b8"
      },
      "execution_count": null,
      "outputs": [
        {
          "output_type": "stream",
          "name": "stdout",
          "text": [
            "[5 5 7]\n",
            "[5 7 9]\n"
          ]
        }
      ]
    },
    {
      "cell_type": "code",
      "source": [
        "#Find indices of elements equal to zero in a NumPy array\n",
        "array = np.random.randint(10,size=10)\n",
        "print(array)\n",
        "ind =  np.where(array==0)[0]\n",
        "print(ind)"
      ],
      "metadata": {
        "colab": {
          "base_uri": "https://localhost:8080/"
        },
        "id": "-NRG_dfYpH3q",
        "outputId": "fa4c42f8-969f-4c4e-8d3e-7d0ff4802d4e"
      },
      "execution_count": null,
      "outputs": [
        {
          "output_type": "stream",
          "name": "stdout",
          "text": [
            "[5 0 6 9 6 1 8 1 6 1]\n",
            "[1]\n"
          ]
        }
      ]
    },
    {
      "cell_type": "code",
      "source": [
        "#How to Remove columns in Numpy array that contains non-numeric values?\n",
        "n_arr = np.array([[10.5, 22.5, np.nan],\n",
        "                  [41, 52.5, np.nan]])\n",
        "print(n_arr[:, ~np.isnan(n_arr).any(axis=0)])"
      ],
      "metadata": {
        "colab": {
          "base_uri": "https://localhost:8080/"
        },
        "id": "ISMO0wkCpeD4",
        "outputId": "bebf1d47-66ac-406b-933f-5f8083aee86a"
      },
      "execution_count": null,
      "outputs": [
        {
          "output_type": "stream",
          "name": "stdout",
          "text": [
            "[[10.5 22.5]\n",
            " [41.  52.5]]\n"
          ]
        }
      ]
    },
    {
      "cell_type": "code",
      "source": [
        "#How to access different rows of a multidimensional NumPy array?\n",
        "arr = np.array([[10, 20, 30], \n",
        "                [40, 5, 66], \n",
        "                [70, 88, 94]])\n",
        "res_arr = arr[[0,2]]\n",
        "print(\"\\nAccessed Rows :\")\n",
        "print(res_arr)"
      ],
      "metadata": {
        "colab": {
          "base_uri": "https://localhost:8080/"
        },
        "id": "_761THf3puQ1",
        "outputId": "fc92d330-80c7-41a5-b719-6bf042b00eda"
      },
      "execution_count": null,
      "outputs": [
        {
          "output_type": "stream",
          "name": "stdout",
          "text": [
            "\n",
            "Accessed Rows :\n",
            "[[10 20 30]\n",
            " [70 88 94]]\n"
          ]
        }
      ]
    },
    {
      "cell_type": "code",
      "source": [
        "#Get row numbers of NumPy array having element larger than X\n",
        "arr = np.array([[1, 2, 3, 4, 5],\n",
        "                  [10, -3, 30, 4, 5],\n",
        "                  [3, 2, 5, -4, 5],\n",
        "                  [9, 7, 3, 6, 5] ])\n",
        "X = 6\n",
        "output  = np.where(np.any(arr > X,axis = 1))\n",
        "print(output)"
      ],
      "metadata": {
        "colab": {
          "base_uri": "https://localhost:8080/"
        },
        "id": "TrsoXoi5p5GG",
        "outputId": "e92456fa-2ff1-4b4d-dfe3-f9b7cf00b167"
      },
      "execution_count": null,
      "outputs": [
        {
          "output_type": "stream",
          "name": "stdout",
          "text": [
            "(array([1, 3]),)\n"
          ]
        }
      ]
    },
    {
      "cell_type": "code",
      "source": [
        "#Get filled the diagonals of NumPy array\n",
        "array = np.array([[1, 2], [2, 1]])\n",
        "np.fill_diagonal(array, 5)\n",
        "print(array)"
      ],
      "metadata": {
        "colab": {
          "base_uri": "https://localhost:8080/"
        },
        "id": "VZ-amv6VqHzB",
        "outputId": "952ad77f-aa22-40f7-da7c-9cc860ae41d4"
      },
      "execution_count": null,
      "outputs": [
        {
          "output_type": "stream",
          "name": "stdout",
          "text": [
            "[[5 2]\n",
            " [2 5]]\n"
          ]
        }
      ]
    },
    {
      "cell_type": "code",
      "source": [
        "#Check elements present in the NumPy array\n",
        "\n",
        "n_array = np.array([[2, 3, 0],\n",
        "                    [4, 1, 6]])\n",
        "print(2 in n_array)\n",
        "print(0 in n_array)\n",
        "print(6 in n_array)\n",
        "print(50 in n_array)\n",
        "print(10 in n_array)"
      ],
      "metadata": {
        "id": "L8WqMt90qZfj"
      },
      "execution_count": null,
      "outputs": []
    },
    {
      "cell_type": "code",
      "source": [
        "#Combined array index by index\n",
        "np."
      ],
      "metadata": {
        "id": "JUcaUwfbqfL8"
      },
      "execution_count": null,
      "outputs": []
    },
    {
      "cell_type": "code",
      "source": [
        "#Find a matrix or vector norm using NumPy\n",
        "\n",
        "print(np.linalg.norm(a1))\n",
        "print(np.linalg.norm(matrix))"
      ],
      "metadata": {
        "colab": {
          "base_uri": "https://localhost:8080/"
        },
        "id": "YQsxu101racL",
        "outputId": "5aff7d3f-26a0-4bc3-e012-0d198e3e7080"
      },
      "execution_count": null,
      "outputs": [
        {
          "output_type": "stream",
          "name": "stdout",
          "text": [
            "4.47213595499958\n",
            "14.2828568570857\n"
          ]
        }
      ]
    },
    {
      "cell_type": "code",
      "source": [
        "#Calculate the QR decomposition of a given matrix using NumPy\n",
        "matrix1 = np.array([[1, 2, 3], [3, 4, 5]])\n",
        "q, r = np.linalg.qr(matrix1)\n",
        "print('\\nQ:\\n', q)\n",
        "print('\\nR:\\n', r)"
      ],
      "metadata": {
        "colab": {
          "base_uri": "https://localhost:8080/"
        },
        "id": "MCz3umQJrvPx",
        "outputId": "70a9a5cd-f8f8-41fe-ee5b-2a1e06e47f1b"
      },
      "execution_count": null,
      "outputs": [
        {
          "output_type": "stream",
          "name": "stdout",
          "text": [
            "\n",
            "Q:\n",
            " [[-0.31622777 -0.9486833 ]\n",
            " [-0.9486833   0.31622777]]\n",
            "\n",
            "R:\n",
            " [[-3.16227766 -4.42718872 -5.69209979]\n",
            " [ 0.         -0.63245553 -1.26491106]]\n"
          ]
        }
      ]
    },
    {
      "cell_type": "code",
      "source": [
        "#Compute the condition number of a given matrix using NumPy\n",
        "matrix = np.array([[4, 2], [3, 1]])\n",
        "result =  np.linalg.cond(matrix)\n",
        "  \n",
        "print(\"Condition number of the matrix:\")\n",
        "print(result)"
      ],
      "metadata": {
        "colab": {
          "base_uri": "https://localhost:8080/"
        },
        "id": "2NVBwX1kr-2y",
        "outputId": "37cba8bb-77cc-402d-f259-9090a99ff9a4"
      },
      "execution_count": null,
      "outputs": [
        {
          "output_type": "stream",
          "name": "stdout",
          "text": [
            "Condition number of the matrix:\n",
            "14.933034373659256\n"
          ]
        }
      ]
    },
    {
      "cell_type": "code",
      "source": [
        "#Compute the eigenvalues and right eigenvectors of a given square array using NumPy?\n",
        "m = np.array([[1, 2],\n",
        "              [2, 3]])\n",
        "w, v = np.linalg.eig(m)\n",
        "  \n",
        "# printing eigen values\n",
        "print(\"Printing the Eigen values of the given square array:\\n\",w)\n",
        "  \n",
        "# printing eigen vectors\n",
        "print(\"Printing Right eigenvectors of the given square array:\\n\",v)"
      ],
      "metadata": {
        "colab": {
          "base_uri": "https://localhost:8080/"
        },
        "id": "qIdctESKsHxL",
        "outputId": "9723b7a5-8c64-4524-b6d5-5449823eda8d"
      },
      "execution_count": null,
      "outputs": [
        {
          "output_type": "stream",
          "name": "stdout",
          "text": [
            "Printing the Eigen values of the given square array:\n",
            " [-0.23606798  4.23606798]\n",
            "Printing Right eigenvectors of the given square array:\n",
            " [[-0.85065081 -0.52573111]\n",
            " [ 0.52573111 -0.85065081]]\n"
          ]
        }
      ]
    },
    {
      "cell_type": "code",
      "source": [
        "#Calculate the Euclidean distance using NumPy\n",
        "point1 = np.array((1, 2, 3))\n",
        "point2 = np.array((1, 1, 1))\n",
        "dist = np.linalg.norm(point1 - point2)\n",
        "print(dist)"
      ],
      "metadata": {
        "id": "2mewOY0msQ6m"
      },
      "execution_count": null,
      "outputs": []
    },
    {
      "cell_type": "code",
      "source": [
        "#Create a Numpy array with random values\n",
        "arr = np.random.randint(100,size=20)\n",
        "print(arr)"
      ],
      "metadata": {
        "colab": {
          "base_uri": "https://localhost:8080/"
        },
        "id": "6Dieu7K-suF7",
        "outputId": "5cd65570-56c9-4321-e787-6cdcba2ce94f"
      },
      "execution_count": null,
      "outputs": [
        {
          "output_type": "stream",
          "name": "stdout",
          "text": [
            "[67 87 65 24 21 96 36 80 92  7 11 16 35 62 79 68 68 63 37 88]\n"
          ]
        }
      ]
    },
    {
      "cell_type": "code",
      "source": [
        "#How to choose elements from the list with different probability using NumPy?\n",
        "num_list = [10, 20, 30, 40, 50]\n",
        "number = np.random.choice(num_list)\n",
        "  \n",
        "print(number)"
      ],
      "metadata": {
        "id": "H3SEtxNPs1WM"
      },
      "execution_count": null,
      "outputs": []
    },
    {
      "cell_type": "code",
      "source": [
        "#How to get weighted random choice in Python?\n",
        "import random\n",
        "num_list = [10, 20, 30, 40, 50]\n",
        "randomlist = random.choices(num_list,(10, 20, 30, 40, 50),k=5)\n",
        "  \n",
        "print(randomlist)"
      ],
      "metadata": {
        "colab": {
          "base_uri": "https://localhost:8080/"
        },
        "id": "VF3R7NR7tEkK",
        "outputId": "784dbbfa-dc71-470c-fa5f-cb0a085f8a8e"
      },
      "execution_count": null,
      "outputs": [
        {
          "output_type": "stream",
          "name": "stdout",
          "text": [
            "[40, 40, 50, 40, 20]\n"
          ]
        }
      ]
    },
    {
      "cell_type": "code",
      "source": [
        "#Generate Random Numbers From The Uniform Distribution using NumPy\n",
        "r = np.random.uniform(size=4)\n",
        "print(r)"
      ],
      "metadata": {
        "colab": {
          "base_uri": "https://localhost:8080/"
        },
        "id": "XsNfuhS5tczY",
        "outputId": "7c966b3d-b8c1-4185-d644-729e8a2848c8"
      },
      "execution_count": null,
      "outputs": [
        {
          "output_type": "stream",
          "name": "stdout",
          "text": [
            "[0.97693028 0.7489851  0.42859364 0.29625161]\n"
          ]
        }
      ]
    },
    {
      "cell_type": "code",
      "source": [
        "#Get Random Elements form geometric distribution\n",
        "r = np.random.geometric(p=0.35, size=10000)\n",
        "print(r)"
      ],
      "metadata": {
        "colab": {
          "base_uri": "https://localhost:8080/"
        },
        "id": "m1I781lHt56H",
        "outputId": "b0f898d2-9cc4-4410-b956-b244aa6d64e2"
      },
      "execution_count": null,
      "outputs": [
        {
          "output_type": "stream",
          "name": "stdout",
          "text": [
            "[1 1 1 ... 3 4 1]\n"
          ]
        }
      ]
    },
    {
      "cell_type": "code",
      "source": [
        "#Get Random elements from Laplace distribution\n",
        "r = np.random.laplace(1.45, 15, 10)\n",
        "print(r)"
      ],
      "metadata": {
        "colab": {
          "base_uri": "https://localhost:8080/"
        },
        "id": "md3GVAQmuHVf",
        "outputId": "5b4ef7f9-f067-4f3f-d0b3-fec3bd49365d"
      },
      "execution_count": null,
      "outputs": [
        {
          "output_type": "stream",
          "name": "stdout",
          "text": [
            "[ 26.57595821  -3.70658932  12.53536871  -4.21068581  28.20072277\n",
            "  47.96388949  52.78085758  -2.25081137  -4.64565259 -21.36695406]\n"
          ]
        }
      ]
    },
    {
      "cell_type": "code",
      "source": [
        "#Return a Matrix of random values from a uniform distribution\n",
        "r = np.random.uniform(size=(4,4))\n",
        "print(r)"
      ],
      "metadata": {
        "colab": {
          "base_uri": "https://localhost:8080/"
        },
        "id": "YRQfk1IQuSGE",
        "outputId": "731dd7f0-6a4d-4ec5-b57e-a6e87bc964c9"
      },
      "execution_count": null,
      "outputs": [
        {
          "output_type": "stream",
          "name": "stdout",
          "text": [
            "[[0.81287864 0.93335193 0.9600683  0.28576392]\n",
            " [0.62600174 0.35982822 0.7563199  0.56754158]\n",
            " [0.2974234  0.30931873 0.04673108 0.50326758]\n",
            " [0.11401831 0.85904678 0.09952976 0.66457183]]\n"
          ]
        }
      ]
    },
    {
      "cell_type": "code",
      "source": [
        "#Return a Matrix of random values from a Gaussian distribution\n",
        "r = np.random.normal(size=(3,4))\n",
        "print(r)"
      ],
      "metadata": {
        "colab": {
          "base_uri": "https://localhost:8080/"
        },
        "id": "J1OVd0dBueF5",
        "outputId": "a68e6bf4-8ede-4743-8a6c-fd48a514077d"
      },
      "execution_count": null,
      "outputs": [
        {
          "output_type": "stream",
          "name": "stdout",
          "text": [
            "[[-0.15732709 -0.06215018 -0.27803291  0.03097412]\n",
            " [ 0.09370059  0.06382436  0.12040552 -0.43048751]\n",
            " [-0.61186899  1.84903815 -1.79808583  1.25750507]]\n"
          ]
        }
      ]
    },
    {
      "cell_type": "code",
      "source": [
        "#How to get the indices of the sorted array using NumPy in Python?\n",
        "array = np.array([10, 52, 62, 16, 16, 54, 453])\n",
        "indices = np.argsort(array)\n",
        "print(indices)\n"
      ],
      "metadata": {
        "colab": {
          "base_uri": "https://localhost:8080/"
        },
        "id": "_FOHioQGuyb6",
        "outputId": "8b3d0743-7ded-4e98-a03b-ef33d776e507"
      },
      "execution_count": null,
      "outputs": [
        {
          "output_type": "stream",
          "name": "stdout",
          "text": [
            "[0 3 4 1 5 2 6]\n"
          ]
        }
      ]
    },
    {
      "cell_type": "code",
      "source": [
        "#Finding the k smallest values of a NumPy array\n",
        "arr = np.array([23, 12, 1, 3, 4, 5, 6])\n",
        "k = 4\n",
        "  \n",
        "arr1 = np.sort(arr)\n",
        "  \n",
        "print(k, \"smallest elements of the array\")\n",
        "print(arr1[:k])"
      ],
      "metadata": {
        "colab": {
          "base_uri": "https://localhost:8080/"
        },
        "id": "86HOvZ3Nu_x7",
        "outputId": "1f90db1f-8969-4fc0-e141-36cf62314e83"
      },
      "execution_count": null,
      "outputs": [
        {
          "output_type": "stream",
          "name": "stdout",
          "text": [
            "4 smallest elements of the array\n",
            "[ 5  6 12 23]\n"
          ]
        }
      ]
    },
    {
      "cell_type": "code",
      "source": [
        "#How to get the n-largest values of an array using NumPy?\n",
        "arr = np.array([23, 12, 1, 3, 4, 5, 6])\n",
        "k = 4\n",
        "  \n",
        "arr1 = np.sort(arr)\n",
        "  \n",
        "print(k, \"largest elements of the array\")\n",
        "print(arr1[len(array)-k:])"
      ],
      "metadata": {
        "colab": {
          "base_uri": "https://localhost:8080/"
        },
        "id": "J2KKRQ31vKkh",
        "outputId": "d69b1ce5-bbfe-487a-ea69-7f28daea3baa"
      },
      "execution_count": null,
      "outputs": [
        {
          "output_type": "stream",
          "name": "stdout",
          "text": [
            "4 largest elements of the array\n",
            "[ 5  6 12 23]\n"
          ]
        }
      ]
    },
    {
      "cell_type": "code",
      "source": [
        "#Sort the values in a matrix\n",
        "m = np.matrix('[4, 1; 12, 3]')\n",
        "m.sort()\n",
        "print(m)"
      ],
      "metadata": {
        "colab": {
          "base_uri": "https://localhost:8080/"
        },
        "id": "cmJrnC0zvl94",
        "outputId": "4d559bc1-3a47-4505-8170-c773b465b2e9"
      },
      "execution_count": null,
      "outputs": [
        {
          "output_type": "stream",
          "name": "stdout",
          "text": [
            "[[ 1  4]\n",
            " [ 3 12]]\n"
          ]
        }
      ]
    },
    {
      "cell_type": "code",
      "source": [
        "#Filter out integers from float numpy array\n",
        "ini_array = np.array([1.0, 1.2, 2.2, 2.0, 3.0, 2.0])\n",
        "result = ini_array[~np.equal(np.mod(ini_array, 1), 0)]\n",
        "print (\"final array : \", str(result))"
      ],
      "metadata": {
        "colab": {
          "base_uri": "https://localhost:8080/"
        },
        "id": "HWUDH_iRv0x_",
        "outputId": "9d028615-504f-42b2-e845-5ef000c1189d"
      },
      "execution_count": null,
      "outputs": [
        {
          "output_type": "stream",
          "name": "stdout",
          "text": [
            "final array :  [1.2 2.2]\n"
          ]
        }
      ]
    },
    {
      "cell_type": "code",
      "source": [
        "#Find the indices into a sorted array\n",
        "array = np.array([10, 52, 62, 16, 16, 54, 453])\n",
        "indices = np.argsort(array)\n",
        "print(indices)"
      ],
      "metadata": {
        "colab": {
          "base_uri": "https://localhost:8080/"
        },
        "id": "t6xyAErBv_VV",
        "outputId": "9330b650-81bf-4f0f-c8f4-f5231af29db9"
      },
      "execution_count": null,
      "outputs": [
        {
          "output_type": "stream",
          "name": "stdout",
          "text": [
            "[0 3 4 1 5 2 6]\n"
          ]
        }
      ]
    },
    {
      "cell_type": "code",
      "source": [
        "#How to get element-wise true division of an array using Numpy?\n",
        "x = np.arange(5)\n",
        "res = np.true_divide(x, 4)\n",
        "print(\"After the element-wise division:\", res)"
      ],
      "metadata": {
        "colab": {
          "base_uri": "https://localhost:8080/"
        },
        "id": "w5eavfH8wKxY",
        "outputId": "eb7c8d7d-1ce0-4b8a-b494-2ef9c4d091d3"
      },
      "execution_count": null,
      "outputs": [
        {
          "output_type": "stream",
          "name": "stdout",
          "text": [
            "After the element-wise division: [0.   0.25 0.5  0.75 1.  ]\n"
          ]
        }
      ]
    },
    {
      "cell_type": "code",
      "source": [
        "#How to calculate the element-wise absolute value of NumPy array?\n",
        "array = np.array([1, -2, 3])\n",
        "res = np.absolute(array)\n",
        "  \n",
        "print(\"Absolute array:\\n\", res)"
      ],
      "metadata": {
        "colab": {
          "base_uri": "https://localhost:8080/"
        },
        "id": "d5tqsiBswWsI",
        "outputId": "3ddee808-43b2-4ae5-b107-dce0c29bf198"
      },
      "execution_count": null,
      "outputs": [
        {
          "output_type": "stream",
          "name": "stdout",
          "text": [
            "Absolute array:\n",
            " [1 2 3]\n"
          ]
        }
      ]
    },
    {
      "cell_type": "code",
      "source": [
        "#Compute the negative of the NumPy array\n",
        "x = 100\n",
        "r = np.negative(x)\n",
        "print(r)"
      ],
      "metadata": {
        "colab": {
          "base_uri": "https://localhost:8080/"
        },
        "id": "i4rDf9ihwfe_",
        "outputId": "e1832061-8ec4-47c5-ca07-8cd11600d1d8"
      },
      "execution_count": null,
      "outputs": [
        {
          "output_type": "stream",
          "name": "stdout",
          "text": [
            "-100\n"
          ]
        }
      ]
    },
    {
      "cell_type": "code",
      "source": [
        "#Multiply 2d numpy array corresponding to 1d array\n",
        "ini_array1 = np.array([[1, 2, 3], [2, 4, 5], [1, 2, 3]])\n",
        "ini_array2 = np.array([0, 2, 3])\n",
        "\n",
        "result = ini_array1 * ini_array2[:, np.newaxis]\n",
        "print(\"New resulting array: \", result)"
      ],
      "metadata": {
        "colab": {
          "base_uri": "https://localhost:8080/"
        },
        "id": "Vaq2gPm6wqCt",
        "outputId": "1655c1c5-cc5f-44bb-91a0-b37111abae44"
      },
      "execution_count": null,
      "outputs": [
        {
          "output_type": "stream",
          "name": "stdout",
          "text": [
            "New resulting array:  [[ 0  0  0]\n",
            " [ 4  8 10]\n",
            " [ 3  6  9]]\n"
          ]
        }
      ]
    },
    {
      "cell_type": "code",
      "source": [
        "#Computes the inner product of two arrays\n",
        "array1 = np.array([6,2])\n",
        "array2 = np.array([2,5])\n",
        "result = np.inner(array1, array2)\n",
        "print(result)"
      ],
      "metadata": {
        "id": "kJalmnsuw1TS"
      },
      "execution_count": null,
      "outputs": []
    },
    {
      "cell_type": "code",
      "source": [
        "#Compute the nth percentile of the NumPy array\n",
        "arr = [20, 2, 7, 1, 34]\n",
        "print(\"50th percentile of arr : \",\n",
        "       np.percentile(arr, 50))\n",
        "print(\"25th percentile of arr : \",\n",
        "       np.percentile(arr, 25))\n",
        "print(\"75th percentile of arr : \",\n",
        "       np.percentile(arr, 75))"
      ],
      "metadata": {
        "id": "AXXd5hK1xBpw"
      },
      "execution_count": null,
      "outputs": []
    },
    {
      "cell_type": "code",
      "source": [
        "#Calculate the n-th order discrete difference along the given axis\n",
        "arr = geek.array([1, 3, 4, 7, 9])\n",
        "  \n",
        "print(\"First order difference  : \", geek.diff(arr))\n",
        "print(\"Second order difference : \", geek.diff(arr, n = 2))\n",
        "print(\"Third order difference  : \", geek.diff(arr, n = 3))"
      ],
      "metadata": {
        "id": "ipZylfVfxKOW"
      },
      "execution_count": null,
      "outputs": []
    },
    {
      "cell_type": "code",
      "source": [
        "#Calculate the sum of all columns in a 2D NumPy array\n",
        "def colsum(arr, n, m):\n",
        "    for i in range(n):\n",
        "        su = 0;\n",
        "        for j in range(m):\n",
        "            su += arr[j][i]\n",
        "        print(su, end = \" \")   \n",
        " \n",
        "TwoDList = [[1, 2, 3], [4, 5, 6],\n",
        "            [7, 8, 9], [10, 11, 12]]\n",
        "TwoDArray = np.array(TwoDList)\n",
        " \n",
        "print(\"2D Array:\")\n",
        "print(TwoDArray)\n",
        " \n",
        "print(\"\\nColumn-wise Sum:\")\n",
        "colsum(TwoDArray, len(TwoDArray[0]), len(TwoDArray))"
      ],
      "metadata": {
        "colab": {
          "base_uri": "https://localhost:8080/"
        },
        "id": "NLKS-Pv0xSEu",
        "outputId": "144c07d4-2ffa-4793-e31f-56db283acdb2"
      },
      "execution_count": null,
      "outputs": [
        {
          "output_type": "stream",
          "name": "stdout",
          "text": [
            "2D Array:\n",
            "[[ 1  2  3]\n",
            " [ 4  5  6]\n",
            " [ 7  8  9]\n",
            " [10 11 12]]\n",
            "\n",
            "Column-wise Sum:\n",
            "22 26 30 "
          ]
        }
      ]
    },
    {
      "cell_type": "code",
      "source": [
        "#Calculate average values of two given NumPy arrays\n",
        "arr1 = np.array([3, 4])\n",
        "arr2 = np.array([1, 0])\n",
        "  \n",
        "avg = (arr1 + arr2) / 2\n",
        "  \n",
        "print(\"Average of NumPy arrays:\\n\",avg)"
      ],
      "metadata": {
        "colab": {
          "base_uri": "https://localhost:8080/"
        },
        "id": "uUXmtt2sxghI",
        "outputId": "a1aabfdb-5667-45d5-ea69-0bccac06c820"
      },
      "execution_count": null,
      "outputs": [
        {
          "output_type": "stream",
          "name": "stdout",
          "text": [
            "Average of NumPy arrays:\n",
            " [2. 2.]\n"
          ]
        }
      ]
    },
    {
      "cell_type": "code",
      "source": [
        "#How to compute numerical negative value for all elements in a given NumPy array?\n",
        "x = np.array([-1, -2, -3,\n",
        "              1, 2, 3, 0])\n",
        " \n",
        "r1 = np.negative(x)\n",
        " \n",
        "print(\"Printing the negative value of the given array:\",r1)"
      ],
      "metadata": {
        "colab": {
          "base_uri": "https://localhost:8080/"
        },
        "id": "5kAwYH13xpnE",
        "outputId": "7e0881c6-fa9f-4ade-a0e8-9bbb84abf9b5"
      },
      "execution_count": null,
      "outputs": [
        {
          "output_type": "stream",
          "name": "stdout",
          "text": [
            "Printing the negative value of the given array: [ 1  2  3 -1 -2 -3  0]\n"
          ]
        }
      ]
    },
    {
      "cell_type": "code",
      "source": [
        "#How to get the floor, ceiling and truncated values of the elements of a numpy array?\n",
        "a = np.array([1.2,3.5,-8.6])\n",
        "  \n",
        "# Get floor value\n",
        "a = np.floor(a)\n",
        "print(a)\n",
        "# Get ceil value\n",
        "a = np.ceil(a)\n",
        "print(a)\n",
        "# Get truncate value\n",
        "a = np.trunc(a)\n",
        "print(a)"
      ],
      "metadata": {
        "colab": {
          "base_uri": "https://localhost:8080/"
        },
        "id": "OodvaN5ax53e",
        "outputId": "2f80d4c0-7170-4535-dea9-9a70d5cda074"
      },
      "execution_count": null,
      "outputs": [
        {
          "output_type": "stream",
          "name": "stdout",
          "text": [
            "[ 1.  3. -9.]\n",
            "[ 1.  3. -9.]\n",
            "[ 1.  3. -9.]\n"
          ]
        }
      ]
    },
    {
      "cell_type": "code",
      "source": [
        "#How to round elements of the NumPy array to the nearest integer?\n",
        "y = np.array([0.2, 0.3, 0.4, 0.5, 0.6, 0.7])\n",
        "y = np.rint(y)\n",
        "print(\"After rounding off:\", end=\" \")\n",
        "print(y)"
      ],
      "metadata": {
        "colab": {
          "base_uri": "https://localhost:8080/"
        },
        "id": "RuQVRC-_yKlx",
        "outputId": "427e24b7-85f4-4766-c660-2fbae6f9be4e"
      },
      "execution_count": null,
      "outputs": [
        {
          "output_type": "stream",
          "name": "stdout",
          "text": [
            "After rounding off: [0. 0. 0. 0. 1. 1.]\n"
          ]
        }
      ]
    },
    {
      "cell_type": "code",
      "source": [
        "#Find the round off the values of the given matrix\n",
        "matrix = np.matrix('[6.4, 1.3; 12.7, 32.3]')\n",
        "print(matrix.round())"
      ],
      "metadata": {
        "colab": {
          "base_uri": "https://localhost:8080/"
        },
        "id": "IV7NP8T6ykzR",
        "outputId": "a7ad62fe-b9f1-48b2-d766-7a99aaef9a78"
      },
      "execution_count": null,
      "outputs": [
        {
          "output_type": "stream",
          "name": "stdout",
          "text": [
            "[[ 6.  1.]\n",
            " [13. 32.]]\n"
          ]
        }
      ]
    },
    {
      "cell_type": "code",
      "source": [
        "#Determine the positive square-root of an array\n",
        "arr1 = np.sqrt([1, 4, 9, 16])\n",
        "arr2 = np.sqrt([6, 10, 18])\n",
        "  \n",
        "print(\"square-root of an array1  : \", arr1)\n",
        "print(\"square-root of an array2  : \", arr2)"
      ],
      "metadata": {
        "colab": {
          "base_uri": "https://localhost:8080/"
        },
        "id": "gJP3IHA5ytmq",
        "outputId": "191d480a-18d9-40aa-ff12-1f9c2e47ac75"
      },
      "execution_count": null,
      "outputs": [
        {
          "output_type": "stream",
          "name": "stdout",
          "text": [
            "square-root of an array1  :  [1. 2. 3. 4.]\n",
            "square-root of an array2  :  [2.44948974 3.16227766 4.24264069]\n"
          ]
        }
      ]
    },
    {
      "cell_type": "code",
      "source": [
        "#Evaluate Einstein’s summation convention of two multidimensional NumPy arrays\n",
        "matrix1 = np.array([[1, 2], [0, 2]])\n",
        "matrix2 = np.array([[0, 1], [3, 4]])\n",
        "  \n",
        "result = np.einsum(\"mk,kn\", matrix1, matrix2)\n",
        "  \n",
        "print(\"Einstein’s summation convention of the two matrix:\")\n",
        "print(result)"
      ],
      "metadata": {
        "colab": {
          "base_uri": "https://localhost:8080/"
        },
        "id": "T9jjG75Vy16j",
        "outputId": "cb51bde0-3f5e-4077-a2bb-f2d9d4a648af"
      },
      "execution_count": null,
      "outputs": [
        {
          "output_type": "stream",
          "name": "stdout",
          "text": [
            "Einstein’s summation convention of the two matrix:\n",
            "[[6 9]\n",
            " [6 8]]\n"
          ]
        }
      ]
    },
    {
      "cell_type": "code",
      "source": [
        "#Compute the median of the flattened NumPy array\n",
        "\n",
        "x_odd = np.array([1, 2, 3, 4, 5, 6, 7])\n",
        "med_odd = np.median(x_odd)\n",
        "print(\"\\nMedian of the array that contains \\\n",
        "odd no of elements:\")\n",
        "print(med_odd)"
      ],
      "metadata": {
        "colab": {
          "base_uri": "https://localhost:8080/"
        },
        "id": "9ISQ0TwYzG3n",
        "outputId": "e7d3eb74-6e3d-43eb-a508-b925799c1bd9"
      },
      "execution_count": null,
      "outputs": [
        {
          "output_type": "stream",
          "name": "stdout",
          "text": [
            "\n",
            "Median of the array that contains odd no of elements:\n",
            "4.0\n"
          ]
        }
      ]
    },
    {
      "cell_type": "code",
      "source": [
        "#Find Mean of a List of Numpy Array\n",
        "Input = [np.array([11, 12, 13]),\n",
        "         np.array([14, 15, 16]),\n",
        "         np.array([17, 18, 19])]\n",
        "  \n",
        "\n",
        "Output = []\n",
        "  \n",
        "for i in range(len(Input)):\n",
        "   Output.append(np.average(Input[i]))\n",
        "  \n",
        "print(Output)"
      ],
      "metadata": {
        "colab": {
          "base_uri": "https://localhost:8080/"
        },
        "id": "YLF3v54VzQMc",
        "outputId": "98c51bc5-2f74-4c58-c370-7164111c4db4"
      },
      "execution_count": null,
      "outputs": [
        {
          "output_type": "stream",
          "name": "stdout",
          "text": [
            "[12.0, 15.0, 18.0]\n"
          ]
        }
      ]
    },
    {
      "cell_type": "code",
      "source": [
        "#Calculate the mean of array ignoring the NaN value\n",
        "arr = np.array([[20, 15, 37], [47, 13, np.nan]])   \n",
        "print(\"Mean of array without using nanmean function:\",\n",
        "                                           np.mean(arr))\n",
        "   \n",
        "print(\"Using nanmean function:\", np.nanmean(arr))"
      ],
      "metadata": {
        "colab": {
          "base_uri": "https://localhost:8080/"
        },
        "id": "4S4Jof88zeC_",
        "outputId": "854fea9f-269d-443e-8f22-931a0458a868"
      },
      "execution_count": null,
      "outputs": [
        {
          "output_type": "stream",
          "name": "stdout",
          "text": [
            "Mean of array without using nanmean function: nan\n",
            "Using nanmean function: 26.4\n"
          ]
        }
      ]
    },
    {
      "cell_type": "code",
      "source": [
        "#Get the mean value from given matrix\n",
        "\n",
        "matrix = np.matrix('[64, 1; 12, 3]')\n",
        "          \n",
        "# applying matrix.mean() method\n",
        "r = matrix.mean()\n",
        "    \n",
        "print(r)"
      ],
      "metadata": {
        "colab": {
          "base_uri": "https://localhost:8080/"
        },
        "id": "8k3x_ZHBzozN",
        "outputId": "2eba2f55-0f2d-4b72-9a9c-dcc6159029c7"
      },
      "execution_count": null,
      "outputs": [
        {
          "output_type": "stream",
          "name": "stdout",
          "text": [
            "20.0\n"
          ]
        }
      ]
    },
    {
      "cell_type": "code",
      "source": [
        "#Compute the variance of the NumPy array\n",
        "arr = [20, 2, 7, 1, 34] \n",
        "print(\"\\nvar of arr : \", np.var(arr, dtype = np.float64)) "
      ],
      "metadata": {
        "colab": {
          "base_uri": "https://localhost:8080/"
        },
        "id": "uBUAkP4Jz8T4",
        "outputId": "6f0e9e6a-7b5d-4c82-dafd-f2a3fa06186a"
      },
      "execution_count": null,
      "outputs": [
        {
          "output_type": "stream",
          "name": "stdout",
          "text": [
            "\n",
            "var of arr :  158.16\n"
          ]
        }
      ]
    },
    {
      "cell_type": "code",
      "source": [
        "#Compute the standard deviation of the NumPy array\n",
        "arr = [20, 2, 7, 1, 34]\n",
        "print(\"std of arr : \", np.std(arr, dtype = np.float64))"
      ],
      "metadata": {
        "colab": {
          "base_uri": "https://localhost:8080/"
        },
        "id": "HqZfzjqv0Fn_",
        "outputId": "0cc2023f-c1e6-4225-9903-0ff3ef5118e8"
      },
      "execution_count": null,
      "outputs": [
        {
          "output_type": "stream",
          "name": "stdout",
          "text": [
            "std of arr :  12.576167937809991\n"
          ]
        }
      ]
    },
    {
      "cell_type": "code",
      "source": [
        "#Compute pearson product-moment correlation coefficients of two given NumPy arrays\n",
        "array1 = np.array([0, 1, 2])\n",
        "array2 = np.array([3, 4, 5])\n",
        "  \n",
        "res = np.corrcoef(array1, array2)\n",
        "  \n",
        "print(res)"
      ],
      "metadata": {
        "colab": {
          "base_uri": "https://localhost:8080/"
        },
        "id": "g4BRS7zn0Nb3",
        "outputId": "4650dcad-46c0-423d-f96f-48adecea5422"
      },
      "execution_count": null,
      "outputs": [
        {
          "output_type": "stream",
          "name": "stdout",
          "text": [
            "[[1. 1.]\n",
            " [1. 1.]]\n"
          ]
        }
      ]
    },
    {
      "cell_type": "code",
      "source": [
        "#Calculate the mean across dimension in a 2D NumPy array\n",
        "arr = np.array([[1, 2, 3], [4, 5, 6], [7, 8, 9]])\n",
        "  \n",
        "# Calculating mean across Rows\n",
        "row_mean = np.mean(arr, axis=1)\n",
        "  \n",
        "row1_mean = row_mean[0]\n",
        "print(\"Mean of Row 1 is\", row1_mean)\n",
        "  \n",
        "row2_mean = row_mean[1]\n",
        "print(\"Mean of Row 2 is\", row2_mean)\n",
        "  \n",
        "row3_mean = row_mean[2]\n",
        "print(\"Mean of Row 3 is\", row3_mean)\n",
        "  \n",
        "  \n",
        "# Calculating mean across Columns\n",
        "column_mean = np.mean(arr, axis=0)\n",
        "  \n",
        "column1_mean = column_mean[0]\n",
        "print(\"Mean of column 1 is\", column1_mean)\n",
        "  \n",
        "column2_mean = column_mean[1]\n",
        "print(\"Mean of column 2 is\", column2_mean)\n",
        "  \n",
        "column3_mean = column_mean[2]\n",
        "print(\"Mean of column 3 is\", column3_mean)"
      ],
      "metadata": {
        "colab": {
          "base_uri": "https://localhost:8080/"
        },
        "id": "Dj5nfqMu0VI0",
        "outputId": "e6d99956-95fb-4731-b7b4-1c72c64deab6"
      },
      "execution_count": null,
      "outputs": [
        {
          "output_type": "stream",
          "name": "stdout",
          "text": [
            "Mean of Row 1 is 2.0\n",
            "Mean of Row 2 is 5.0\n",
            "Mean of Row 3 is 8.0\n",
            "Mean of column 1 is 4.0\n",
            "Mean of column 2 is 5.0\n",
            "Mean of column 3 is 6.0\n"
          ]
        }
      ]
    },
    {
      "cell_type": "code",
      "source": [
        "#Calculate the average, variance and standard deviation in Python using NumPy\n",
        "alist = [2, 4, 4, 4, 5, 5, 7, 9]\n",
        "#average\n",
        "print(np.average(alist))\n",
        "#variance\n",
        "print(np.var(alist))\n",
        "#standart deviation\n",
        "print(np.std(alist))"
      ],
      "metadata": {
        "colab": {
          "base_uri": "https://localhost:8080/"
        },
        "id": "jNAdL0tB0ev-",
        "outputId": "a0f3a515-453d-4474-c6ac-7c9316534529"
      },
      "execution_count": null,
      "outputs": [
        {
          "output_type": "stream",
          "name": "stdout",
          "text": [
            "5.0\n",
            "4.0\n",
            "2.0\n"
          ]
        }
      ]
    },
    {
      "cell_type": "code",
      "source": [
        "#Describe a NumPy Array in Python\n",
        "print(np.array([1,2,3,5,654,7]))"
      ],
      "metadata": {
        "colab": {
          "base_uri": "https://localhost:8080/"
        },
        "id": "IzSeFtbY05Ng",
        "outputId": "b465c8f4-b509-4f1a-9051-a466ae059cf4"
      },
      "execution_count": null,
      "outputs": [
        {
          "output_type": "stream",
          "name": "stdout",
          "text": [
            "[  1   2   3   5 654   7]\n"
          ]
        }
      ]
    },
    {
      "cell_type": "code",
      "source": [
        "#Define a polynomial function\n",
        "p1 = np.poly1d([1,2])\n",
        "print(p1)\n",
        "print(p1(3))\n",
        "print(\"P1 roots = \",p1.r)\n",
        "print(\"P1 Coefficients = \",p1.c)\n",
        "print(\"P1 Order = \",p1.o)"
      ],
      "metadata": {
        "colab": {
          "base_uri": "https://localhost:8080/"
        },
        "id": "WvBjA3Cz0-u7",
        "outputId": "4563c6fc-6504-4d36-ae09-7c6ed0625bf5"
      },
      "execution_count": null,
      "outputs": [
        {
          "output_type": "stream",
          "name": "stdout",
          "text": [
            " \n",
            "1 x + 2\n",
            "5\n",
            "P1 roots =  [-2.]\n",
            "P1 Coefficients =  [1 2]\n",
            "P1 Order =  1\n"
          ]
        }
      ]
    },
    {
      "cell_type": "code",
      "source": [
        "#How to add one polynomial to another using NumPy in Python?\n",
        "# p(x) = 7(x**2) + (-2)x +5\n",
        "px = (7,-2,5)\n",
        "  \n",
        "# q(x) = 1(x**2) + (-5)x +2\n",
        "qx = (1,-5,2)\n",
        "  \n",
        "# add the polynomials\n",
        "rx = np.polynomial.polynomial.polyadd(px,qx)\n",
        "  \n",
        "# print the resultant polynomial\n",
        "print(rx)\n"
      ],
      "metadata": {
        "colab": {
          "base_uri": "https://localhost:8080/"
        },
        "id": "m4z46fur12aC",
        "outputId": "4df8fcc7-d8f3-42b0-acc3-c14cee076af8"
      },
      "execution_count": null,
      "outputs": [
        {
          "output_type": "stream",
          "name": "stdout",
          "text": [
            "[ 8. -7.  7.]\n"
          ]
        }
      ]
    },
    {
      "cell_type": "code",
      "source": [
        "#How to subtract one polynomial to another using NumPy in Python?\n",
        "# p(x) = 7(x**2) + (-2)x +5\n",
        "px = (7,-2,5)\n",
        "  \n",
        "# q(x) = 1(x**2) + (-5)x +2\n",
        "qx = (1,-5,2)\n",
        "  \n",
        "# add the polynomials\n",
        "rx = np.polynomial.polynomial.polysub(px,qx)\n",
        "  \n",
        "# print the resultant polynomial\n",
        "print(rx)"
      ],
      "metadata": {
        "colab": {
          "base_uri": "https://localhost:8080/"
        },
        "id": "rbtL8I4t2Fsi",
        "outputId": "4318e693-ee3b-41f0-8e99-e27896633dc5"
      },
      "execution_count": null,
      "outputs": [
        {
          "output_type": "stream",
          "name": "stdout",
          "text": [
            "[6. 3. 3.]\n"
          ]
        }
      ]
    },
    {
      "cell_type": "code",
      "source": [
        "#How to multiply a polynomial to another using NumPy in Python?\n",
        "# p(x) = 7(x**2) + (-2)x +5\n",
        "px = (7,-2,5)\n",
        "  \n",
        "# q(x) = 1(x**2) + (-5)x +2\n",
        "qx = (1,-5,2)\n",
        "  \n",
        "# add the polynomials\n",
        "rx = np.polynomial.polynomial.polymul(px,qx)\n",
        "  \n",
        "# print the resultant polynomial\n",
        "print(rx)"
      ],
      "metadata": {
        "colab": {
          "base_uri": "https://localhost:8080/"
        },
        "id": "_hvmMdN-2Oc_",
        "outputId": "2fa952c5-bcd7-4204-e11b-58dc8c0d6b1f"
      },
      "execution_count": null,
      "outputs": [
        {
          "output_type": "stream",
          "name": "stdout",
          "text": [
            "[  7. -37.  29. -29.  10.]\n"
          ]
        }
      ]
    },
    {
      "cell_type": "code",
      "source": [
        "#How to divide a polynomial to another using NumPy in Python?\n",
        "# p(x) = 7(x**2) + (-2)x +5\n",
        "px = (7,-2,5)\n",
        "  \n",
        "# q(x) = 1(x**2) + (-5)x +2\n",
        "qx = (1,-5,2)\n",
        "  \n",
        "# add the polynomials\n",
        "rx = np.polynomial.polynomial.polydiv(px,qx)\n",
        "  \n",
        "# print the resultant polynomial\n",
        "print(rx)"
      ],
      "metadata": {
        "colab": {
          "base_uri": "https://localhost:8080/"
        },
        "id": "boqp-jfy2U9w",
        "outputId": "38033241-24e4-42b9-dc30-5a02141a6418"
      },
      "execution_count": null,
      "outputs": [
        {
          "output_type": "stream",
          "name": "stdout",
          "text": [
            "(array([2.5]), array([ 4.5, 10.5]))\n"
          ]
        }
      ]
    },
    {
      "cell_type": "code",
      "source": [
        "#Find the roots of the polynomials using NumPy\n",
        "print(np.roots(qx))"
      ],
      "metadata": {
        "colab": {
          "base_uri": "https://localhost:8080/"
        },
        "id": "32KE4GcD2bkO",
        "outputId": "c00cc69e-403b-4404-cd96-7738367116e4"
      },
      "execution_count": null,
      "outputs": [
        {
          "output_type": "stream",
          "name": "stdout",
          "text": [
            "[4.56155281 0.43844719]\n"
          ]
        }
      ]
    },
    {
      "cell_type": "code",
      "source": [
        "#Evaluate a 2-D polynomial series on the Cartesian product\n",
        "from numpy.polynomial.polynomial import polygrid2d\n",
        "c = np.array([[1, 3, 5], [2, 4, 6]]) \n",
        "  \n",
        "ans = polygrid2d([7, 9], [8, 10], c)\n",
        "print(ans)"
      ],
      "metadata": {
        "colab": {
          "base_uri": "https://localhost:8080/"
        },
        "id": "4C3pbDrI2lny",
        "outputId": "5197e8bb-2961-428d-b7aa-98d7f9b5c7af"
      },
      "execution_count": null,
      "outputs": [
        {
          "output_type": "stream",
          "name": "stdout",
          "text": [
            "[[3271. 5025.]\n",
            " [4107. 6309.]]\n"
          ]
        }
      ]
    },
    {
      "cell_type": "code",
      "source": [
        "#Evaluate a 3-D polynomial series on the Cartesian product\n",
        "from numpy.polynomial.polynomial import polygrid3d\n",
        "  \n",
        "# Input polynomial series coefficients\n",
        "c = np.array([[1, 3, 5], [2, 4, 6], [10, 11, 12]]) \n",
        "  \n",
        "# using np.polygrid3d() method \n",
        "ans = polygrid3d([7, 9], [8, 10], [5, 6], c)\n",
        "print(ans)"
      ],
      "metadata": {
        "colab": {
          "base_uri": "https://localhost:8080/"
        },
        "id": "uQtNTLZf24_L",
        "outputId": "0ddaa267-d5b2-47f6-b029-9e98d6ed6504"
      },
      "execution_count": null,
      "outputs": [
        {
          "output_type": "stream",
          "name": "stdout",
          "text": [
            "[[416970. 491223.]\n",
            " [635850. 749079.]]\n"
          ]
        }
      ]
    },
    {
      "cell_type": "code",
      "source": [
        "#Repeat all the elements of a NumPy array of strings\n",
        "arr = np.array(['BAA', 'OI', 'A', \n",
        "                'Du', 'Ra'], dtype = np.str_)\n",
        "print(\"Original Array :\")\n",
        "print(arr)\n",
        "  \n",
        "# with the help of np.char.multiply()\n",
        "# repeating the characters 3 times\n",
        "new_array = np.char.multiply(arr, 3)\n",
        "print(\"\\nNew array :\")\n",
        "print(new_array)"
      ],
      "metadata": {
        "colab": {
          "base_uri": "https://localhost:8080/"
        },
        "id": "miPgcRst2-lT",
        "outputId": "e3f9f26d-02fa-4f96-8f5a-df04b70c84ce"
      },
      "execution_count": null,
      "outputs": [
        {
          "output_type": "stream",
          "name": "stdout",
          "text": [
            "Original Array :\n",
            "['BAA' 'OI' 'A' 'Du' 'Ra']\n",
            "\n",
            "New array :\n",
            "['BAABAABAA' 'OIOIOI' 'AAA' 'DuDuDu' 'RaRaRa']\n"
          ]
        }
      ]
    },
    {
      "cell_type": "code",
      "source": [
        "#How to split the element of a given NumPy array with spaces?\n",
        "array = np.array(['PHP C# Python C Java C++'], dtype=np.str_)\n",
        "print(array)\n",
        "  \n",
        "# Split the element of the said array with spaces\n",
        "sparr = np.char.split(array)\n",
        "print(sparr)"
      ],
      "metadata": {
        "colab": {
          "base_uri": "https://localhost:8080/"
        },
        "id": "9tgIdSgf3Fpx",
        "outputId": "ff48e3c4-5dff-4756-e29e-91ab53375420"
      },
      "execution_count": null,
      "outputs": [
        {
          "output_type": "stream",
          "name": "stdout",
          "text": [
            "['PHP C# Python C Java C++']\n",
            "[list(['PHP', 'C#', 'Python', 'C', 'Java', 'C++'])]\n"
          ]
        }
      ]
    },
    {
      "cell_type": "code",
      "source": [
        "#How to insert a space between characters of all the elements of a given NumPy array?\n",
        "x = np.array([\"OLÁ\", \"MEU\", \"POVO\"],\n",
        "             dtype=np.str_)\n",
        "print(\"Printing the Original Array:\")\n",
        "print(x)\n",
        "  \n",
        "# inserting space using np.char.join()\n",
        "r = np.char.join(\" \", x)\n",
        "print(\"Printing the array after inserting space\\\n",
        "between the elements\")\n",
        "print(r)"
      ],
      "metadata": {
        "colab": {
          "base_uri": "https://localhost:8080/"
        },
        "id": "6j9m1ag83dPb",
        "outputId": "0fca8f2f-241b-4e4b-eb88-5ae962564088"
      },
      "execution_count": null,
      "outputs": [
        {
          "output_type": "stream",
          "name": "stdout",
          "text": [
            "Printing the Original Array:\n",
            "['OLÁ' 'MEU' 'POVO']\n",
            "Printing the array after inserting spacebetween the elements\n",
            "['O L Á' 'M E U' 'P O V O']\n"
          ]
        }
      ]
    },
    {
      "cell_type": "code",
      "source": [
        "#Find the length of each string element in the Numpy array\n",
        "len_checker = np.vectorize(len)\n",
        "print(len_checker(x))"
      ],
      "metadata": {
        "colab": {
          "base_uri": "https://localhost:8080/"
        },
        "id": "voIbfgbv31uh",
        "outputId": "52b88b22-c570-4789-8485-1efa6322fb22"
      },
      "execution_count": null,
      "outputs": [
        {
          "output_type": "execute_result",
          "data": {
            "text/plain": [
              "array([3, 3, 4])"
            ]
          },
          "metadata": {},
          "execution_count": 361
        }
      ]
    },
    {
      "cell_type": "code",
      "source": [
        "#Swap the case of an array of string\n",
        "arr = np.char.swapcase(x)\n",
        "print(arr)"
      ],
      "metadata": {
        "colab": {
          "base_uri": "https://localhost:8080/"
        },
        "id": "dxID9w9n4HnT",
        "outputId": "fcd22223-1d5d-4081-b295-46f5f9162ee0"
      },
      "execution_count": null,
      "outputs": [
        {
          "output_type": "stream",
          "name": "stdout",
          "text": [
            "['olá' 'meu' 'povo']\n"
          ]
        }
      ]
    },
    {
      "cell_type": "code",
      "source": [
        "#Change the case to uppercase of elements of an array\n",
        "print(np.char.upper(arr))"
      ],
      "metadata": {
        "colab": {
          "base_uri": "https://localhost:8080/"
        },
        "id": "Bubcz4Kb4RfI",
        "outputId": "0fce74ab-f0d3-4775-812c-fc38b66dbb42"
      },
      "execution_count": null,
      "outputs": [
        {
          "output_type": "stream",
          "name": "stdout",
          "text": [
            "['OLÁ' 'MEU' 'POVO']\n"
          ]
        }
      ]
    },
    {
      "cell_type": "code",
      "source": [
        "#Change the case to lowercase of elements of an array\n",
        "print(np.char.lower(x))"
      ],
      "metadata": {
        "colab": {
          "base_uri": "https://localhost:8080/"
        },
        "id": "zUoT1GbK4jwK",
        "outputId": "05cee46f-2b06-44b2-aac7-5da5e9d826c0"
      },
      "execution_count": null,
      "outputs": [
        {
          "output_type": "stream",
          "name": "stdout",
          "text": [
            "['olá' 'meu' 'povo']\n"
          ]
        }
      ]
    },
    {
      "cell_type": "code",
      "source": [
        "#Join String by a seperator\n",
        "print(np.char.join(\"-\",\"Olá Mundo\"))"
      ],
      "metadata": {
        "colab": {
          "base_uri": "https://localhost:8080/"
        },
        "id": "NVMg7LzG4m5G",
        "outputId": "d52a2a73-c56a-4ef2-e134-0371211f3a43"
      },
      "execution_count": null,
      "outputs": [
        {
          "output_type": "stream",
          "name": "stdout",
          "text": [
            "O-l-á- -M-u-n-d-o\n"
          ]
        }
      ]
    },
    {
      "cell_type": "code",
      "source": [
        "#Check if two same shaped string arrayss one by one\n",
        "arr1 = np.array([\"Olá\",\"Mundo\"])\n",
        "arr2 = np.array([\"Olá\",\"Mundos\"])\n",
        "print(np.char.equal(arr1,arr2))"
      ],
      "metadata": {
        "colab": {
          "base_uri": "https://localhost:8080/"
        },
        "id": "Wl0xImw74zkR",
        "outputId": "a6fc8a4f-85f8-4623-f6c7-c661f4d63c33"
      },
      "execution_count": null,
      "outputs": [
        {
          "output_type": "stream",
          "name": "stdout",
          "text": [
            "[ True False]\n"
          ]
        }
      ]
    },
    {
      "cell_type": "code",
      "source": [
        "#Count the number of substrings in an array\n",
        "print(x)\n",
        "print(np.char.count(x,sub= \"O\"))"
      ],
      "metadata": {
        "colab": {
          "base_uri": "https://localhost:8080/"
        },
        "id": "QNLRo8iO5V4p",
        "outputId": "b6bcf230-c374-4901-aa6b-610157b3171a"
      },
      "execution_count": null,
      "outputs": [
        {
          "output_type": "stream",
          "name": "stdout",
          "text": [
            "['OLÁ' 'MEU' 'POVO']\n",
            "[1 0 2]\n"
          ]
        }
      ]
    },
    {
      "cell_type": "code",
      "source": [
        "#Find the lowest index of the substring in an array\n",
        "print(np.char.find(x,'O'))"
      ],
      "metadata": {
        "colab": {
          "base_uri": "https://localhost:8080/"
        },
        "id": "-9qoyrCC5x41",
        "outputId": "e8c402be-5bec-4eda-e103-0269dbf1298d"
      },
      "execution_count": null,
      "outputs": [
        {
          "output_type": "stream",
          "name": "stdout",
          "text": [
            "[ 0 -1  1]\n"
          ]
        }
      ]
    },
    {
      "cell_type": "code",
      "source": [
        "#Get the boolean array when values end with a particular character\n",
        "print(np.char.endswith(x,'O'))"
      ],
      "metadata": {
        "colab": {
          "base_uri": "https://localhost:8080/"
        },
        "id": "qwTrWLDz6GxP",
        "outputId": "deabd3fe-9ffe-492c-c6ee-cf08d742d44b"
      },
      "execution_count": null,
      "outputs": [
        {
          "output_type": "stream",
          "name": "stdout",
          "text": [
            "[False False  True]\n"
          ]
        }
      ]
    },
    {
      "cell_type": "code",
      "source": [
        "#Different ways to convert a Python dictionary to a NumPy array\n",
        "dict = {1:'AAAA',\n",
        "        2:'BBBB',\n",
        "        3:'CCCC'}\n",
        "res = dict.items()\n",
        "narr = np.array(res)\n",
        "print(narr)        "
      ],
      "metadata": {
        "colab": {
          "base_uri": "https://localhost:8080/"
        },
        "id": "8gL66K5g6RMW",
        "outputId": "794f1d76-7a23-4fca-ca84-8da2aac97fcf"
      },
      "execution_count": null,
      "outputs": [
        {
          "output_type": "stream",
          "name": "stdout",
          "text": [
            "dict_items([(1, 'AAAA'), (2, 'BBBB'), (3, 'CCCC')])\n"
          ]
        }
      ]
    },
    {
      "cell_type": "code",
      "source": [
        "#How to convert a list and tuple into NumPy arrays?\n",
        "list1 = [1,5,6,7]\n",
        "tuple1 =  ([3,4,8],[2,87,6])\n",
        "a1 = np.asarray(list1)\n",
        "a2 = np.asarray(tuple1)\n",
        "print(a1)\n",
        "print(a2)"
      ],
      "metadata": {
        "id": "whX6DBEM6wUP",
        "colab": {
          "base_uri": "https://localhost:8080/"
        },
        "outputId": "336e77c6-8013-4fa6-aea2-9e62f3e19b0b"
      },
      "execution_count": null,
      "outputs": [
        {
          "output_type": "stream",
          "name": "stdout",
          "text": [
            "[1 5 6 7]\n",
            "[[ 3  4  8]\n",
            " [ 2 87  6]]\n"
          ]
        }
      ]
    },
    {
      "cell_type": "code",
      "source": [
        "#Ways to convert array of strings to array of floats\n",
        "ini_array = np.array([\"1.1\", \"1.5\", \"2.7\", \"8.9\"])\n",
        " \n",
        "res = ini_array.astype(np.float64)\n",
        " \n",
        "print (\"final array\", str(res))"
      ],
      "metadata": {
        "colab": {
          "base_uri": "https://localhost:8080/"
        },
        "id": "ClKNpqJ-8D5b",
        "outputId": "ae7f9b51-c02c-4a91-bf84-aad6c9766157"
      },
      "execution_count": null,
      "outputs": [
        {
          "output_type": "stream",
          "name": "stdout",
          "text": [
            "final array [1.1 1.5 2.7 8.9]\n"
          ]
        }
      ]
    },
    {
      "cell_type": "code",
      "source": [
        "#Convert a NumPy array into a csv file\n",
        "import pandas as pd\n",
        "arr = np.arange(1,11).reshape(2,5)\n",
        "DF = pd.DataFrame(arr)\n",
        "  \n",
        "DF.to_csv(\"data1.csv\")"
      ],
      "metadata": {
        "id": "n5ayzKX18K-v"
      },
      "execution_count": null,
      "outputs": []
    },
    {
      "cell_type": "code",
      "source": [
        "#How to Convert an image to NumPy array and save it to CSV file using Python?\n",
        "from PIL import Image\n",
        "img = Image.open(\"randimg.jpg\")\n",
        "imageTomatrice =  np.asarray(img)\n",
        "print(imageTomatrice)"
      ],
      "metadata": {
        "colab": {
          "base_uri": "https://localhost:8080/",
          "height": 376
        },
        "id": "XYKD1vs38YDJ",
        "outputId": "bae99c2f-a705-4156-d979-c2522675690a"
      },
      "execution_count": null,
      "outputs": [
        {
          "output_type": "error",
          "ename": "FileNotFoundError",
          "evalue": "ignored",
          "traceback": [
            "\u001b[0;31m---------------------------------------------------------------------------\u001b[0m",
            "\u001b[0;31mFileNotFoundError\u001b[0m                         Traceback (most recent call last)",
            "\u001b[0;32m<ipython-input-400-8333ddaa117f>\u001b[0m in \u001b[0;36m<module>\u001b[0;34m()\u001b[0m\n\u001b[1;32m      1\u001b[0m \u001b[0;31m#How to Convert an image to NumPy array and save it to CSV file using Python?\u001b[0m\u001b[0;34m\u001b[0m\u001b[0;34m\u001b[0m\u001b[0;34m\u001b[0m\u001b[0m\n\u001b[1;32m      2\u001b[0m \u001b[0;32mfrom\u001b[0m \u001b[0mPIL\u001b[0m \u001b[0;32mimport\u001b[0m \u001b[0mImage\u001b[0m\u001b[0;34m\u001b[0m\u001b[0;34m\u001b[0m\u001b[0m\n\u001b[0;32m----> 3\u001b[0;31m \u001b[0mimg\u001b[0m \u001b[0;34m=\u001b[0m \u001b[0mImage\u001b[0m\u001b[0;34m.\u001b[0m\u001b[0mopen\u001b[0m\u001b[0;34m(\u001b[0m\u001b[0;34m\"randimg.jpg\"\u001b[0m\u001b[0;34m)\u001b[0m\u001b[0;34m\u001b[0m\u001b[0;34m\u001b[0m\u001b[0m\n\u001b[0m\u001b[1;32m      4\u001b[0m \u001b[0mimageTomatrice\u001b[0m \u001b[0;34m=\u001b[0m  \u001b[0mnp\u001b[0m\u001b[0;34m.\u001b[0m\u001b[0masarray\u001b[0m\u001b[0;34m(\u001b[0m\u001b[0mimg\u001b[0m\u001b[0;34m)\u001b[0m\u001b[0;34m\u001b[0m\u001b[0;34m\u001b[0m\u001b[0m\n\u001b[1;32m      5\u001b[0m \u001b[0mprint\u001b[0m\u001b[0;34m(\u001b[0m\u001b[0mimageTomatrice\u001b[0m\u001b[0;34m)\u001b[0m\u001b[0;34m\u001b[0m\u001b[0;34m\u001b[0m\u001b[0m\n",
            "\u001b[0;32m/usr/local/lib/python3.7/dist-packages/PIL/Image.py\u001b[0m in \u001b[0;36mopen\u001b[0;34m(fp, mode)\u001b[0m\n\u001b[1;32m   2841\u001b[0m \u001b[0;34m\u001b[0m\u001b[0m\n\u001b[1;32m   2842\u001b[0m     \u001b[0;32mif\u001b[0m \u001b[0mfilename\u001b[0m\u001b[0;34m:\u001b[0m\u001b[0;34m\u001b[0m\u001b[0;34m\u001b[0m\u001b[0m\n\u001b[0;32m-> 2843\u001b[0;31m         \u001b[0mfp\u001b[0m \u001b[0;34m=\u001b[0m \u001b[0mbuiltins\u001b[0m\u001b[0;34m.\u001b[0m\u001b[0mopen\u001b[0m\u001b[0;34m(\u001b[0m\u001b[0mfilename\u001b[0m\u001b[0;34m,\u001b[0m \u001b[0;34m\"rb\"\u001b[0m\u001b[0;34m)\u001b[0m\u001b[0;34m\u001b[0m\u001b[0;34m\u001b[0m\u001b[0m\n\u001b[0m\u001b[1;32m   2844\u001b[0m         \u001b[0mexclusive_fp\u001b[0m \u001b[0;34m=\u001b[0m \u001b[0;32mTrue\u001b[0m\u001b[0;34m\u001b[0m\u001b[0;34m\u001b[0m\u001b[0m\n\u001b[1;32m   2845\u001b[0m \u001b[0;34m\u001b[0m\u001b[0m\n",
            "\u001b[0;31mFileNotFoundError\u001b[0m: [Errno 2] No such file or directory: 'randimg.jpg'"
          ]
        }
      ]
    },
    {
      "cell_type": "code",
      "source": [
        "#How to save a NumPy array to a text file?\n",
        "List = [1, 2, 3, 4, 5]\n",
        "Array = np.array(List)\n",
        " \n",
        "print('Array:\\n', Array)\n",
        "file = open(\"file1.txt\", \"w+\")\n",
        " \n",
        "  content = str(Array)\n",
        "file.write(content)\n",
        "file.close()\n",
        " \n"
      ],
      "metadata": {
        "colab": {
          "base_uri": "https://localhost:8080/"
        },
        "id": "ZR4ekcUs87uV",
        "outputId": "f1df03c8-760e-4d72-c172-2ceacc687c8e"
      },
      "execution_count": null,
      "outputs": [
        {
          "output_type": "stream",
          "name": "stdout",
          "text": [
            "Array:\n",
            " [1 2 3 4 5]\n"
          ]
        }
      ]
    },
    {
      "cell_type": "code",
      "source": [
        "#Load data from a text file\n",
        "file = open(\"file1.txt\", \"r\")\n",
        "content = file.read()\n",
        " \n",
        "print(\"\\nContent in file1.txt:\\n\", content)\n",
        "file.close()"
      ],
      "metadata": {
        "colab": {
          "base_uri": "https://localhost:8080/"
        },
        "id": "y4ZS3zdJ9E-L",
        "outputId": "e3b1de4d-35d5-40fe-8361-abd58a57fd10"
      },
      "execution_count": null,
      "outputs": [
        {
          "output_type": "stream",
          "name": "stdout",
          "text": [
            "\n",
            "Content in file1.txt:\n",
            " [1 2 3 4 5]\n"
          ]
        }
      ]
    },
    {
      "cell_type": "code",
      "source": [
        "#Plot line graph from NumPy array\n",
        "import matplotlib.pyplot as plt\n",
        " \n",
        "x = np.arange(1, 11)\n",
        "y = x * x\n",
        " \n",
        "plt.title(\"Line graph\")\n",
        "plt.xlabel(\"X axis\")\n",
        "plt.ylabel(\"Y axis\")\n",
        "plt.plot(x, y, color =\"red\")\n",
        "plt.show()"
      ],
      "metadata": {
        "colab": {
          "base_uri": "https://localhost:8080/",
          "height": 295
        },
        "id": "zqxVjFAT9Pdr",
        "outputId": "71f70228-0f39-437e-dc75-f287e2daba7d"
      },
      "execution_count": null,
      "outputs": [
        {
          "output_type": "display_data",
          "data": {
            "text/plain": [
              "<Figure size 432x288 with 1 Axes>"
            ],
            "image/png": "[encoded data removed]"
          },
          "metadata": {
            "needs_background": "light"
          }
        }
      ]
    },
    {
      "cell_type": "code",
      "source": [
        "a = np.array([22, 87, 5, 43, 56,\n",
        "              73, 55, 54, 11,\n",
        "              20, 51, 5, 79, 31,\n",
        "              27])\n",
        " \n",
        "fig, ax = plt.subplots(figsize =(10, 7))\n",
        "ax.hist(a, bins = [0, 25, 50, 75, 100])\n",
        " \n",
        "plt.show()"
      ],
      "metadata": {
        "colab": {
          "base_uri": "https://localhost:8080/",
          "height": 428
        },
        "id": "Hj9dj7hQ9VH4",
        "outputId": "5ffa67c5-4232-4c88-bd4e-1d2ee7517f01"
      },
      "execution_count": null,
      "outputs": [
        {
          "output_type": "display_data",
          "data": {
            "text/plain": [
              "<Figure size 720x504 with 1 Axes>"
            ],
            "image/png": "[encoded data removed]"
          },
          "metadata": {
            "needs_background": "light"
          }
        }
      ]
    }
  ]
}